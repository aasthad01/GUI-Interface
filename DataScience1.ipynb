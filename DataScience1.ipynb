{
  "nbformat": 4,
  "nbformat_minor": 0,
  "metadata": {
    "colab": {
      "provenance": [],
      "authorship_tag": "ABX9TyNPTMjTQOkht6wqjI3KInxi",
      "include_colab_link": true
    },
    "kernelspec": {
      "name": "python3",
      "display_name": "Python 3"
    },
    "language_info": {
      "name": "python"
    }
  },
  "cells": [
    {
      "cell_type": "markdown",
      "metadata": {
        "id": "view-in-github",
        "colab_type": "text"
      },
      "source": [
        "<a href=\"https://colab.research.google.com/github/aasthad01/GUI-Interface/blob/main/DataScience1.ipynb\" target=\"_parent\"><img src=\"https://colab.research.google.com/assets/colab-badge.svg\" alt=\"Open In Colab\"/></a>"
      ]
    },
    {
      "cell_type": "code",
      "source": [
        "!pip install mlxtend\n",
        "!pip install -U imbalanced-learn\n",
        "!pip install rpy2"
      ],
      "metadata": {
        "id": "gavcN_5RCSLQ"
      },
      "execution_count": null,
      "outputs": []
    },
    {
      "cell_type": "code",
      "execution_count": null,
      "metadata": {
        "id": "9AkegSjl48_N"
      },
      "outputs": [],
      "source": [
        "# Importing Packages\n",
        "\n",
        "import pandas as pd\n",
        "import numpy as np\n",
        "import random\n",
        "import matplotlib.pyplot as plt\n",
        "from imblearn.over_sampling import RandomOverSampler\n",
        "import seaborn as sns\n",
        "from sklearn.model_selection import train_test_split\n",
        "from sklearn.naive_bayes import GaussianNB\n",
        "from sklearn.tree import DecisionTreeClassifier\n",
        "from sklearn.metrics import accuracy_score, classification_report, confusion_matrix\n",
        "from sklearn.ensemble import RandomForestClassifier\n",
        "from sklearn.tree import plot_tree\n",
        "from sklearn.preprocessing import StandardScaler\n",
        "from tensorflow import keras as tfk\n",
        "from sklearn.cluster import KMeans\n",
        "from sklearn.linear_model import LinearRegression\n",
        "from sklearn.metrics import mean_absolute_error, mean_squared_error, r2_score\n",
        "import statsmodels.api as sm\n",
        "from statsmodels.stats.outliers_influence import variance_inflation_factor\n",
        "from sklearn.decomposition import PCA\n",
        "from sklearn.linear_model import LogisticRegression\n",
        "from mlxtend.frequent_patterns import apriori\n",
        "from mlxtend.frequent_patterns import association_rules\n",
        "from mlxtend.preprocessing import TransactionEncoder\n",
        "from sklearn.preprocessing import LabelEncoder\n",
        "from sklearn.metrics import confusion_matrix, classification_report\n",
        "from rpy2.robjects import r, pandas2ri\n",
        "from rpy2.robjects.packages import importr"
      ]
    },
    {
      "cell_type": "code",
      "source": [
        "from google.colab import files\n",
        "uploaded = files.upload()"
      ],
      "metadata": {
        "id": "az_VJAtJ5LN7",
        "colab": {
          "base_uri": "https://localhost:8080/",
          "height": 128
        },
        "outputId": "b8c9214b-8373-43bf-8349-c51071d4af3c"
      },
      "execution_count": 29,
      "outputs": [
        {
          "output_type": "stream",
          "name": "stderr",
          "text": [
            "/usr/local/lib/python3.10/dist-packages/ipykernel/ipkernel.py:283: DeprecationWarning: `should_run_async` will not call `transform_cell` automatically in the future. Please pass the result to `transformed_cell` argument and any exception that happen during thetransform in `preprocessing_exc_tuple` in IPython 7.17 and above.\n",
            "  and should_run_async(code)\n"
          ]
        },
        {
          "output_type": "display_data",
          "data": {
            "text/plain": [
              "<IPython.core.display.HTML object>"
            ],
            "text/html": [
              "\n",
              "     <input type=\"file\" id=\"files-49097367-0e74-45b3-83e8-ca6851b5f898\" name=\"files[]\" multiple disabled\n",
              "        style=\"border:none\" />\n",
              "     <output id=\"result-49097367-0e74-45b3-83e8-ca6851b5f898\">\n",
              "      Upload widget is only available when the cell has been executed in the\n",
              "      current browser session. Please rerun this cell to enable.\n",
              "      </output>\n",
              "      <script>// Copyright 2017 Google LLC\n",
              "//\n",
              "// Licensed under the Apache License, Version 2.0 (the \"License\");\n",
              "// you may not use this file except in compliance with the License.\n",
              "// You may obtain a copy of the License at\n",
              "//\n",
              "//      http://www.apache.org/licenses/LICENSE-2.0\n",
              "//\n",
              "// Unless required by applicable law or agreed to in writing, software\n",
              "// distributed under the License is distributed on an \"AS IS\" BASIS,\n",
              "// WITHOUT WARRANTIES OR CONDITIONS OF ANY KIND, either express or implied.\n",
              "// See the License for the specific language governing permissions and\n",
              "// limitations under the License.\n",
              "\n",
              "/**\n",
              " * @fileoverview Helpers for google.colab Python module.\n",
              " */\n",
              "(function(scope) {\n",
              "function span(text, styleAttributes = {}) {\n",
              "  const element = document.createElement('span');\n",
              "  element.textContent = text;\n",
              "  for (const key of Object.keys(styleAttributes)) {\n",
              "    element.style[key] = styleAttributes[key];\n",
              "  }\n",
              "  return element;\n",
              "}\n",
              "\n",
              "// Max number of bytes which will be uploaded at a time.\n",
              "const MAX_PAYLOAD_SIZE = 100 * 1024;\n",
              "\n",
              "function _uploadFiles(inputId, outputId) {\n",
              "  const steps = uploadFilesStep(inputId, outputId);\n",
              "  const outputElement = document.getElementById(outputId);\n",
              "  // Cache steps on the outputElement to make it available for the next call\n",
              "  // to uploadFilesContinue from Python.\n",
              "  outputElement.steps = steps;\n",
              "\n",
              "  return _uploadFilesContinue(outputId);\n",
              "}\n",
              "\n",
              "// This is roughly an async generator (not supported in the browser yet),\n",
              "// where there are multiple asynchronous steps and the Python side is going\n",
              "// to poll for completion of each step.\n",
              "// This uses a Promise to block the python side on completion of each step,\n",
              "// then passes the result of the previous step as the input to the next step.\n",
              "function _uploadFilesContinue(outputId) {\n",
              "  const outputElement = document.getElementById(outputId);\n",
              "  const steps = outputElement.steps;\n",
              "\n",
              "  const next = steps.next(outputElement.lastPromiseValue);\n",
              "  return Promise.resolve(next.value.promise).then((value) => {\n",
              "    // Cache the last promise value to make it available to the next\n",
              "    // step of the generator.\n",
              "    outputElement.lastPromiseValue = value;\n",
              "    return next.value.response;\n",
              "  });\n",
              "}\n",
              "\n",
              "/**\n",
              " * Generator function which is called between each async step of the upload\n",
              " * process.\n",
              " * @param {string} inputId Element ID of the input file picker element.\n",
              " * @param {string} outputId Element ID of the output display.\n",
              " * @return {!Iterable<!Object>} Iterable of next steps.\n",
              " */\n",
              "function* uploadFilesStep(inputId, outputId) {\n",
              "  const inputElement = document.getElementById(inputId);\n",
              "  inputElement.disabled = false;\n",
              "\n",
              "  const outputElement = document.getElementById(outputId);\n",
              "  outputElement.innerHTML = '';\n",
              "\n",
              "  const pickedPromise = new Promise((resolve) => {\n",
              "    inputElement.addEventListener('change', (e) => {\n",
              "      resolve(e.target.files);\n",
              "    });\n",
              "  });\n",
              "\n",
              "  const cancel = document.createElement('button');\n",
              "  inputElement.parentElement.appendChild(cancel);\n",
              "  cancel.textContent = 'Cancel upload';\n",
              "  const cancelPromise = new Promise((resolve) => {\n",
              "    cancel.onclick = () => {\n",
              "      resolve(null);\n",
              "    };\n",
              "  });\n",
              "\n",
              "  // Wait for the user to pick the files.\n",
              "  const files = yield {\n",
              "    promise: Promise.race([pickedPromise, cancelPromise]),\n",
              "    response: {\n",
              "      action: 'starting',\n",
              "    }\n",
              "  };\n",
              "\n",
              "  cancel.remove();\n",
              "\n",
              "  // Disable the input element since further picks are not allowed.\n",
              "  inputElement.disabled = true;\n",
              "\n",
              "  if (!files) {\n",
              "    return {\n",
              "      response: {\n",
              "        action: 'complete',\n",
              "      }\n",
              "    };\n",
              "  }\n",
              "\n",
              "  for (const file of files) {\n",
              "    const li = document.createElement('li');\n",
              "    li.append(span(file.name, {fontWeight: 'bold'}));\n",
              "    li.append(span(\n",
              "        `(${file.type || 'n/a'}) - ${file.size} bytes, ` +\n",
              "        `last modified: ${\n",
              "            file.lastModifiedDate ? file.lastModifiedDate.toLocaleDateString() :\n",
              "                                    'n/a'} - `));\n",
              "    const percent = span('0% done');\n",
              "    li.appendChild(percent);\n",
              "\n",
              "    outputElement.appendChild(li);\n",
              "\n",
              "    const fileDataPromise = new Promise((resolve) => {\n",
              "      const reader = new FileReader();\n",
              "      reader.onload = (e) => {\n",
              "        resolve(e.target.result);\n",
              "      };\n",
              "      reader.readAsArrayBuffer(file);\n",
              "    });\n",
              "    // Wait for the data to be ready.\n",
              "    let fileData = yield {\n",
              "      promise: fileDataPromise,\n",
              "      response: {\n",
              "        action: 'continue',\n",
              "      }\n",
              "    };\n",
              "\n",
              "    // Use a chunked sending to avoid message size limits. See b/62115660.\n",
              "    let position = 0;\n",
              "    do {\n",
              "      const length = Math.min(fileData.byteLength - position, MAX_PAYLOAD_SIZE);\n",
              "      const chunk = new Uint8Array(fileData, position, length);\n",
              "      position += length;\n",
              "\n",
              "      const base64 = btoa(String.fromCharCode.apply(null, chunk));\n",
              "      yield {\n",
              "        response: {\n",
              "          action: 'append',\n",
              "          file: file.name,\n",
              "          data: base64,\n",
              "        },\n",
              "      };\n",
              "\n",
              "      let percentDone = fileData.byteLength === 0 ?\n",
              "          100 :\n",
              "          Math.round((position / fileData.byteLength) * 100);\n",
              "      percent.textContent = `${percentDone}% done`;\n",
              "\n",
              "    } while (position < fileData.byteLength);\n",
              "  }\n",
              "\n",
              "  // All done.\n",
              "  yield {\n",
              "    response: {\n",
              "      action: 'complete',\n",
              "    }\n",
              "  };\n",
              "}\n",
              "\n",
              "scope.google = scope.google || {};\n",
              "scope.google.colab = scope.google.colab || {};\n",
              "scope.google.colab._files = {\n",
              "  _uploadFiles,\n",
              "  _uploadFilesContinue,\n",
              "};\n",
              "})(self);\n",
              "</script> "
            ]
          },
          "metadata": {}
        },
        {
          "output_type": "stream",
          "name": "stdout",
          "text": [
            "Saving car-sales-extended-missing-data.csv to car-sales-extended-missing-data (1).csv\n"
          ]
        }
      ]
    },
    {
      "cell_type": "code",
      "source": [
        "# Getting Data\n",
        "\n",
        "dataset = pd.read_csv(\"car-sales-extended-missing-data.csv\")"
      ],
      "metadata": {
        "id": "f9PoZwjT5Xpy",
        "colab": {
          "base_uri": "https://localhost:8080/"
        },
        "outputId": "a9f3b8b8-4f5a-46ba-e10a-26f73580bf43"
      },
      "execution_count": 100,
      "outputs": [
        {
          "output_type": "stream",
          "name": "stderr",
          "text": [
            "/usr/local/lib/python3.10/dist-packages/ipykernel/ipkernel.py:283: DeprecationWarning: `should_run_async` will not call `transform_cell` automatically in the future. Please pass the result to `transformed_cell` argument and any exception that happen during thetransform in `preprocessing_exc_tuple` in IPython 7.17 and above.\n",
            "  and should_run_async(code)\n"
          ]
        }
      ]
    },
    {
      "cell_type": "code",
      "source": [
        "# Executing Commands\n",
        "\n",
        "print(dataset.head)"
      ],
      "metadata": {
        "id": "KfGujbDe5ndS",
        "colab": {
          "base_uri": "https://localhost:8080/"
        },
        "outputId": "7a4a628c-dfb0-410b-a121-3b4edd8e66e0"
      },
      "execution_count": 86,
      "outputs": [
        {
          "output_type": "stream",
          "name": "stdout",
          "text": [
            "<bound method NDFrame.head of        Make Colour  Odometer (KM)  Doors    Price\n",
            "0     Honda  White            NaN    4.0  15323.0\n",
            "1       BMW   Blue       192714.0    5.0  19943.0\n",
            "2       NaN  White        84714.0    NaN      NaN\n",
            "3    Toyota  White       154365.0    4.0      NaN\n",
            "4    Nissan   Blue       181577.0    NaN  14043.0\n",
            "..      ...    ...            ...    ...      ...\n",
            "995  Toyota  Black        35820.0    4.0  32042.0\n",
            "996     NaN  White       155144.0    3.0   5716.0\n",
            "997  Nissan   Blue        66604.0    4.0  31570.0\n",
            "998   Honda  White       215883.0    4.0   4001.0\n",
            "999  Toyota   Blue       248360.0    4.0  12732.0\n",
            "\n",
            "[1000 rows x 5 columns]>\n"
          ]
        },
        {
          "output_type": "stream",
          "name": "stderr",
          "text": [
            "/usr/local/lib/python3.10/dist-packages/ipykernel/ipkernel.py:283: DeprecationWarning: `should_run_async` will not call `transform_cell` automatically in the future. Please pass the result to `transformed_cell` argument and any exception that happen during thetransform in `preprocessing_exc_tuple` in IPython 7.17 and above.\n",
            "  and should_run_async(code)\n"
          ]
        }
      ]
    },
    {
      "cell_type": "code",
      "source": [
        "# Accessing Records and Variables\n",
        "\n",
        "record=dataset.Price\n",
        "print(record)\n",
        "row_index = 5\n",
        "row = dataset.iloc[row_index]\n",
        "print(row)"
      ],
      "metadata": {
        "id": "u3MvOMrI5q_M",
        "colab": {
          "base_uri": "https://localhost:8080/"
        },
        "outputId": "d96321d1-674b-4392-83ef-29598337157a"
      },
      "execution_count": 87,
      "outputs": [
        {
          "output_type": "stream",
          "name": "stdout",
          "text": [
            "0      15323.0\n",
            "1      19943.0\n",
            "2          NaN\n",
            "3          NaN\n",
            "4      14043.0\n",
            "        ...   \n",
            "995    32042.0\n",
            "996     5716.0\n",
            "997    31570.0\n",
            "998     4001.0\n",
            "999    12732.0\n",
            "Name: Price, Length: 1000, dtype: float64\n",
            "Make               Honda\n",
            "Colour               Red\n",
            "Odometer (KM)    42652.0\n",
            "Doors                4.0\n",
            "Price            23883.0\n",
            "Name: 5, dtype: object\n"
          ]
        },
        {
          "output_type": "stream",
          "name": "stderr",
          "text": [
            "/usr/local/lib/python3.10/dist-packages/ipykernel/ipkernel.py:283: DeprecationWarning: `should_run_async` will not call `transform_cell` automatically in the future. Please pass the result to `transformed_cell` argument and any exception that happen during thetransform in `preprocessing_exc_tuple` in IPython 7.17 and above.\n",
            "  and should_run_async(code)\n"
          ]
        }
      ]
    },
    {
      "cell_type": "code",
      "source": [
        "# Add an Index Field\n",
        "\n",
        "dataset.set_index(\"Make\", inplace = True)\n",
        "print(dataset)"
      ],
      "metadata": {
        "id": "eJ-sBlKW5v61",
        "colab": {
          "base_uri": "https://localhost:8080/"
        },
        "outputId": "61f854b2-3e36-4fe5-cd92-7fe40b276848"
      },
      "execution_count": 88,
      "outputs": [
        {
          "output_type": "stream",
          "name": "stdout",
          "text": [
            "       Colour  Odometer (KM)  Doors    Price\n",
            "Make                                        \n",
            "Honda   White            NaN    4.0  15323.0\n",
            "BMW      Blue       192714.0    5.0  19943.0\n",
            "NaN     White        84714.0    NaN      NaN\n",
            "Toyota  White       154365.0    4.0      NaN\n",
            "Nissan   Blue       181577.0    NaN  14043.0\n",
            "...       ...            ...    ...      ...\n",
            "Toyota  Black        35820.0    4.0  32042.0\n",
            "NaN     White       155144.0    3.0   5716.0\n",
            "Nissan   Blue        66604.0    4.0  31570.0\n",
            "Honda   White       215883.0    4.0   4001.0\n",
            "Toyota   Blue       248360.0    4.0  12732.0\n",
            "\n",
            "[1000 rows x 4 columns]\n"
          ]
        },
        {
          "output_type": "stream",
          "name": "stderr",
          "text": [
            "/usr/local/lib/python3.10/dist-packages/ipykernel/ipkernel.py:283: DeprecationWarning: `should_run_async` will not call `transform_cell` automatically in the future. Please pass the result to `transformed_cell` argument and any exception that happen during thetransform in `preprocessing_exc_tuple` in IPython 7.17 and above.\n",
            "  and should_run_async(code)\n"
          ]
        }
      ]
    },
    {
      "cell_type": "code",
      "source": [
        "# Change Misleading Field Values\n",
        "\n",
        "#df = dataset.dropna()\n",
        "dataset['Colour'] = dataset['Colour'].replace('red', 'black')\n",
        "dataset = dataset.fillna(dataset.apply(lambda x: np.random.choice(x.dropna()), axis=0))\n",
        "print(dataset)"
      ],
      "metadata": {
        "id": "xX7lN4zm5zC7",
        "colab": {
          "base_uri": "https://localhost:8080/"
        },
        "outputId": "032145e4-274a-47d4-d146-96b189c34adb"
      },
      "execution_count": 89,
      "outputs": [
        {
          "output_type": "stream",
          "name": "stdout",
          "text": [
            "       Colour  Odometer (KM)  Doors    Price\n",
            "Make                                        \n",
            "Honda   White       218803.0    4.0  15323.0\n",
            "BMW      Blue       192714.0    5.0  19943.0\n",
            "NaN     White        84714.0    3.0   6200.0\n",
            "Toyota  White       154365.0    4.0   6200.0\n",
            "Nissan   Blue       181577.0    3.0  14043.0\n",
            "...       ...            ...    ...      ...\n",
            "Toyota  Black        35820.0    4.0  32042.0\n",
            "NaN     White       155144.0    3.0   5716.0\n",
            "Nissan   Blue        66604.0    4.0  31570.0\n",
            "Honda   White       215883.0    4.0   4001.0\n",
            "Toyota   Blue       248360.0    4.0  12732.0\n",
            "\n",
            "[1000 rows x 4 columns]\n"
          ]
        },
        {
          "output_type": "stream",
          "name": "stderr",
          "text": [
            "/usr/local/lib/python3.10/dist-packages/ipykernel/ipkernel.py:283: DeprecationWarning: `should_run_async` will not call `transform_cell` automatically in the future. Please pass the result to `transformed_cell` argument and any exception that happen during thetransform in `preprocessing_exc_tuple` in IPython 7.17 and above.\n",
            "  and should_run_async(code)\n"
          ]
        }
      ]
    },
    {
      "cell_type": "code",
      "source": [
        "# Reexpress Categorical Field Values\n",
        "\n",
        "category_mapping = {'White' : 'WTE', 'Blue' : 'BLU', 'Black' : 'BLCK'}\n",
        "dataset['Colour'] = dataset['Colour'].map(category_mapping)\n",
        "print(dataset)"
      ],
      "metadata": {
        "id": "dW-mu2dN5211",
        "colab": {
          "base_uri": "https://localhost:8080/"
        },
        "outputId": "1804515d-fa71-4ff1-e071-72dbc03319f6"
      },
      "execution_count": 101,
      "outputs": [
        {
          "output_type": "stream",
          "name": "stdout",
          "text": [
            "       Make Colour  Odometer (KM)  Doors    Price\n",
            "0     Honda    WTE            NaN    4.0  15323.0\n",
            "1       BMW    BLU       192714.0    5.0  19943.0\n",
            "2       NaN    WTE        84714.0    NaN      NaN\n",
            "3    Toyota    WTE       154365.0    4.0      NaN\n",
            "4    Nissan    BLU       181577.0    NaN  14043.0\n",
            "..      ...    ...            ...    ...      ...\n",
            "995  Toyota   BLCK        35820.0    4.0  32042.0\n",
            "996     NaN    WTE       155144.0    3.0   5716.0\n",
            "997  Nissan    BLU        66604.0    4.0  31570.0\n",
            "998   Honda    WTE       215883.0    4.0   4001.0\n",
            "999  Toyota    BLU       248360.0    4.0  12732.0\n",
            "\n",
            "[1000 rows x 5 columns]\n"
          ]
        },
        {
          "output_type": "stream",
          "name": "stderr",
          "text": [
            "/usr/local/lib/python3.10/dist-packages/ipykernel/ipkernel.py:283: DeprecationWarning: `should_run_async` will not call `transform_cell` automatically in the future. Please pass the result to `transformed_cell` argument and any exception that happen during thetransform in `preprocessing_exc_tuple` in IPython 7.17 and above.\n",
            "  and should_run_async(code)\n"
          ]
        }
      ]
    },
    {
      "cell_type": "code",
      "source": [
        "# Standardise Numeric Fields\n",
        "\n",
        "d = pd.DataFrame(dataset)\n",
        "d['Price'] = (d['Price'] - d['Price'].mean()) / d['Price'].std()\n",
        "print(d['Price'])\n",
        "print(dataset)"
      ],
      "metadata": {
        "id": "lGEGOXbn6HYj",
        "colab": {
          "base_uri": "https://localhost:8080/"
        },
        "outputId": "b818e647-6ae0-4603-9ceb-970dedf3a1db"
      },
      "execution_count": 92,
      "outputs": [
        {
          "output_type": "stream",
          "name": "stdout",
          "text": [
            "Make\n",
            "Honda    -0.022963\n",
            "BMW       0.512038\n",
            "NaN      -1.079416\n",
            "Toyota   -1.079416\n",
            "Nissan   -0.171188\n",
            "            ...   \n",
            "Toyota    1.913115\n",
            "NaN      -1.135464\n",
            "Nissan    1.858457\n",
            "Honda    -1.334062\n",
            "Toyota   -0.323004\n",
            "Name: Price, Length: 1000, dtype: float64\n",
            "       Colour  Odometer (KM)  Doors     Price\n",
            "Make                                         \n",
            "Honda   White       218803.0   Four -0.022963\n",
            "BMW      Blue       192714.0   Five  0.512038\n",
            "NaN     White        84714.0  Three -1.079416\n",
            "Toyota  White       154365.0   Four -1.079416\n",
            "Nissan   Blue       181577.0  Three -0.171188\n",
            "...       ...            ...    ...       ...\n",
            "Toyota  Black        35820.0   Four  1.913115\n",
            "NaN     White       155144.0  Three -1.135464\n",
            "Nissan   Blue        66604.0   Four  1.858457\n",
            "Honda   White       215883.0   Four -1.334062\n",
            "Toyota   Blue       248360.0   Four -0.323004\n",
            "\n",
            "[1000 rows x 4 columns]\n"
          ]
        },
        {
          "output_type": "stream",
          "name": "stderr",
          "text": [
            "/usr/local/lib/python3.10/dist-packages/ipykernel/ipkernel.py:283: DeprecationWarning: `should_run_async` will not call `transform_cell` automatically in the future. Please pass the result to `transformed_cell` argument and any exception that happen during thetransform in `preprocessing_exc_tuple` in IPython 7.17 and above.\n",
            "  and should_run_async(code)\n"
          ]
        }
      ]
    },
    {
      "cell_type": "code",
      "source": [
        "# Identify Outliers\n",
        "\n",
        "Q1 = dataset['Price'].quantile(0.25)\n",
        "Q3 = dataset['Price'].quantile(0.75)\n",
        "IQR = Q3 - Q1\n",
        "lower_threshold = Q1 - 1.5 * IQR\n",
        "upper_threshold = Q3 + 1.5 * IQR\n",
        "outliers = dataset[(dataset['Price'] < lower_threshold) | (dataset['Price'] > upper_threshold)]\n",
        "print(outliers)"
      ],
      "metadata": {
        "id": "FZm1vcTM6LNc",
        "colab": {
          "base_uri": "https://localhost:8080/"
        },
        "outputId": "ef69c939-341d-444b-c052-83d57a9e9017"
      },
      "execution_count": 93,
      "outputs": [
        {
          "output_type": "stream",
          "name": "stdout",
          "text": [
            "     Colour  Odometer (KM)  Doors     Price\n",
            "Make                                       \n",
            "BMW   White        79937.0   Five  3.840507\n",
            "BMW   Green       126441.0   Five  2.804319\n",
            "BMW   White       218803.0   Five  2.617880\n",
            "BMW    Blue        63321.0  Three  2.721290\n",
            "BMW   White        23996.0   Five  3.788744\n",
            "BMW    Blue        72575.0   Five  2.984506\n",
            "BMW     Red       100060.0   Five  2.610005\n",
            "BMW    Blue        69358.0   Five  3.675375\n",
            "BMW    Blue        72663.0   Five  2.838365\n",
            "BMW   White        96224.0  Three  3.497041\n",
            "BMW   White        57905.0  Three  4.093185\n",
            "BMW   White        83309.0   Five  3.472607\n",
            "NaN   White        45513.0   Five  2.717006\n",
            "BMW   White        84327.0   Five  2.630039\n",
            "BMW   White        16274.0   Five  4.277309\n",
            "BMW   White        85739.0   Five  3.809588\n"
          ]
        },
        {
          "output_type": "stream",
          "name": "stderr",
          "text": [
            "/usr/local/lib/python3.10/dist-packages/ipykernel/ipkernel.py:283: DeprecationWarning: `should_run_async` will not call `transform_cell` automatically in the future. Please pass the result to `transformed_cell` argument and any exception that happen during thetransform in `preprocessing_exc_tuple` in IPython 7.17 and above.\n",
            "  and should_run_async(code)\n"
          ]
        }
      ]
    },
    {
      "cell_type": "code",
      "source": [
        "# Construct a Bar Graph with Overlay\n",
        "\n",
        "#Sample DataFrame (replace this with your actual DataFrame)\n",
        "data = {\n",
        "    'Make': ['Honda', 'BMW', 'Toyota', 'Nissan', 'Toyota', 'Honda', 'Toyota', 'Nissan', 'Honda', 'Toyota'],\n",
        "    'Color': ['White', 'Blue', 'White', 'White', 'Blue', 'Black', 'White', 'Blue', 'White', 'Blue'],\n",
        "    'Odometer': [76343.0, 192714.0, 84714.0, 154365.0, 181577.0, 35820.0, 155144.0, 66604.0, 215883.0, 248360.0],\n",
        "    'Doors': [4.0, 5.0, 4.0, 4.0, 4.0, 4.0, 3.0, 4.0, 4.0, 4.0],\n",
        "    'Random': [-0.121441, 0.424357, 0.685678, 0.685678, -0.272657, 1.853708, -1.256392, 1.797946, -1.458998, -0.427536]\n",
        "}\n",
        "\n",
        "df = pd.DataFrame(data)\n",
        "column_to_plot = 'Odometer'\n",
        "\n",
        "#Create a bar graph with overlay\n",
        "plt.figure(figsize=(10, 6))\n",
        "sns.barplot(data=df, x='Make', y=column_to_plot, ci=None, palette='Set1')\n",
        "\n",
        "#Customize the plot\n",
        "plt.title(f'Bar Graph of {column_to_plot} by Make')\n",
        "plt.xlabel('Make')\n",
        "plt.ylabel(column_to_plot)\n",
        "\n",
        "#Show the plot\n",
        "plt.show()\n"
      ],
      "metadata": {
        "id": "4_HwYkcC-SYN",
        "colab": {
          "base_uri": "https://localhost:8080/",
          "height": 705
        },
        "outputId": "59714406-b74f-483e-a3ba-d9baede1cd8a"
      },
      "execution_count": 94,
      "outputs": [
        {
          "output_type": "stream",
          "name": "stderr",
          "text": [
            "/usr/local/lib/python3.10/dist-packages/ipykernel/ipkernel.py:283: DeprecationWarning: `should_run_async` will not call `transform_cell` automatically in the future. Please pass the result to `transformed_cell` argument and any exception that happen during thetransform in `preprocessing_exc_tuple` in IPython 7.17 and above.\n",
            "  and should_run_async(code)\n",
            "<ipython-input-94-27b1eda9c4bf>:17: FutureWarning: \n",
            "\n",
            "The `ci` parameter is deprecated. Use `errorbar=None` for the same effect.\n",
            "\n",
            "  sns.barplot(data=df, x='Make', y=column_to_plot, ci=None, palette='Set1')\n"
          ]
        },
        {
          "output_type": "display_data",
          "data": {
            "text/plain": [
              "<Figure size 1000x600 with 1 Axes>"
            ],
            "image/png": "[encoded data removed]"
          },
          "metadata": {}
        }
      ]
    },
    {
      "cell_type": "code",
      "source": [
        "# Construct Contingency Tables\n",
        "\n",
        "data_crosstab = pd.crosstab(dataset['Colour'], dataset['Doors'], margins = False)\n",
        "print(data_crosstab)"
      ],
      "metadata": {
        "id": "pC2Jxfwo6Rqd",
        "colab": {
          "base_uri": "https://localhost:8080/"
        },
        "outputId": "663abcfa-5572-42ba-b9e1-652fcff68bcf"
      },
      "execution_count": 95,
      "outputs": [
        {
          "output_type": "stream",
          "name": "stdout",
          "text": [
            "Doors   Five  Four  Three\n",
            "Colour                   \n",
            "Black      5    81      9\n",
            "Blue      20   238     44\n",
            "Green     10   101     14\n",
            "Red       12    65     11\n",
            "White     28   325     37\n"
          ]
        },
        {
          "output_type": "stream",
          "name": "stderr",
          "text": [
            "/usr/local/lib/python3.10/dist-packages/ipykernel/ipkernel.py:283: DeprecationWarning: `should_run_async` will not call `transform_cell` automatically in the future. Please pass the result to `transformed_cell` argument and any exception that happen during thetransform in `preprocessing_exc_tuple` in IPython 7.17 and above.\n",
            "  and should_run_async(code)\n"
          ]
        }
      ]
    },
    {
      "cell_type": "code",
      "source": [
        "# Construct Histograms with Overlay\n",
        "\n",
        "column_to_plot = 'Odometer'\n",
        "\n",
        "#Convert column to numerical data type\n",
        "df[column_to_plot] = pd.to_numeric(df[column_to_plot], errors='coerce')\n",
        "\n",
        "#Create a histogram\n",
        "plt.figure(figsize=(10, 6))\n",
        "sns.histplot(data=df, x=column_to_plot, hue='Make', multiple='stack', bins=30, kde=True)\n",
        "\n",
        "#Customize the plot\n",
        "plt.title(f'Overlay Histogram of {column_to_plot} by Make')\n",
        "plt.xlabel(column_to_plot)\n",
        "plt.ylabel('Frequency')\n",
        "plt.legend(title='Make')\n",
        "\n",
        "#Show the plot\n",
        "plt.show()\n"
      ],
      "metadata": {
        "id": "UZdgsHO76Wg6",
        "colab": {
          "base_uri": "https://localhost:8080/",
          "height": 636
        },
        "outputId": "de79e9bb-d511-46ca-9abf-e854652f5405"
      },
      "execution_count": 96,
      "outputs": [
        {
          "output_type": "stream",
          "name": "stderr",
          "text": [
            "/usr/local/lib/python3.10/dist-packages/ipykernel/ipkernel.py:283: DeprecationWarning: `should_run_async` will not call `transform_cell` automatically in the future. Please pass the result to `transformed_cell` argument and any exception that happen during thetransform in `preprocessing_exc_tuple` in IPython 7.17 and above.\n",
            "  and should_run_async(code)\n",
            "WARNING:matplotlib.legend:No artists with labels found to put in legend.  Note that artists whose label start with an underscore are ignored when legend() is called with no argument.\n"
          ]
        },
        {
          "output_type": "display_data",
          "data": {
            "text/plain": [
              "<Figure size 1000x600 with 1 Axes>"
            ],
            "image/png": "[encoded data removed]"
          },
          "metadata": {}
        }
      ]
    },
    {
      "cell_type": "code",
      "source": [
        "# Perform Binning Based on Predictive Value\n",
        "\n",
        "data['new_bin'] = pd.qcut(data['Odometer'], q=3)\n",
        "print(data)"
      ],
      "metadata": {
        "id": "HZo2jNkN-1yc",
        "colab": {
          "base_uri": "https://localhost:8080/"
        },
        "outputId": "1ca09c9e-71d0-4fe9-cdf1-7d21fb4673db"
      },
      "execution_count": 97,
      "outputs": [
        {
          "output_type": "stream",
          "name": "stdout",
          "text": [
            "{'Make': ['Honda', 'BMW', 'Toyota', 'Nissan', 'Toyota', 'Honda', 'Toyota', 'Nissan', 'Honda', 'Toyota'], 'Color': ['White', 'Blue', 'White', 'White', 'Blue', 'Black', 'White', 'Blue', 'White', 'Blue'], 'Odometer': [76343.0, 192714.0, 84714.0, 154365.0, 181577.0, 35820.0, 155144.0, 66604.0, 215883.0, 248360.0], 'Doors': [4.0, 5.0, 4.0, 4.0, 4.0, 4.0, 3.0, 4.0, 4.0, 4.0], 'Random': [-0.121441, 0.424357, 0.685678, 0.685678, -0.272657, 1.853708, -1.256392, 1.797946, -1.458998, -0.427536], 'new_bin': [(35819.999, 84714.0], (181577.0, 248360.0], (35819.999, 84714.0], (84714.0, 181577.0], (84714.0, 181577.0], (35819.999, 84714.0], (84714.0, 181577.0], (35819.999, 84714.0], (181577.0, 248360.0], (181577.0, 248360.0]]\n",
            "Categories (3, interval[float64, right]): [(35819.999, 84714.0] < (84714.0, 181577.0] <\n",
            "                                           (181577.0, 248360.0]]}\n"
          ]
        },
        {
          "output_type": "stream",
          "name": "stderr",
          "text": [
            "/usr/local/lib/python3.10/dist-packages/ipykernel/ipkernel.py:283: DeprecationWarning: `should_run_async` will not call `transform_cell` automatically in the future. Please pass the result to `transformed_cell` argument and any exception that happen during thetransform in `preprocessing_exc_tuple` in IPython 7.17 and above.\n",
            "  and should_run_async(code)\n"
          ]
        }
      ]
    },
    {
      "cell_type": "code",
      "source": [
        "# Perform Model Evaluation\n",
        "\n",
        "df = dataset.dropna()\n",
        "\n",
        "#Define features and target variable\n",
        "X = df[['Odometer (KM)', 'Doors']]\n",
        "y = df['Price']\n",
        "\n",
        "#Split the data into training and testing sets\n",
        "X_train, X_test, y_train, y_test = train_test_split(X, y, test_size=0.2, random_state=42)\n",
        "\n",
        "#Initialize and train the linear regression model\n",
        "model = LinearRegression()\n",
        "model.fit(X_train, y_train)\n",
        "\n",
        "#Make predictions on the test set\n",
        "y_pred = model.predict(X_test)\n",
        "\n",
        "#Evaluate the performance of the regression model\n",
        "mae = mean_absolute_error(y_test, y_pred)\n",
        "mse = mean_squared_error(y_test, y_pred)\n",
        "r2 = r2_score(y_test, y_pred)\n",
        "\n",
        "#Display the evaluation metrics\n",
        "print(f\"Mean Absolute Error: {mae:.2f}\")\n",
        "print(f\"Mean Squared Error: {mse:.2f}\")\n",
        "print(f\"R-squared: {r2:.2f}\")"
      ],
      "metadata": {
        "colab": {
          "base_uri": "https://localhost:8080/"
        },
        "id": "Yxsm0LK1_5Tg",
        "outputId": "055d6a1c-6823-4e06-add6-4f9094b14fc9"
      },
      "execution_count": 102,
      "outputs": [
        {
          "output_type": "stream",
          "name": "stdout",
          "text": [
            "Mean Absolute Error: 6481.68\n",
            "Mean Squared Error: 65356076.78\n",
            "R-squared: 0.22\n"
          ]
        },
        {
          "output_type": "stream",
          "name": "stderr",
          "text": [
            "/usr/local/lib/python3.10/dist-packages/ipykernel/ipkernel.py:283: DeprecationWarning: `should_run_async` will not call `transform_cell` automatically in the future. Please pass the result to `transformed_cell` argument and any exception that happen during thetransform in `preprocessing_exc_tuple` in IPython 7.17 and above.\n",
            "  and should_run_async(code)\n"
          ]
        }
      ]
    },
    {
      "cell_type": "code",
      "source": [
        "# Accounting for Unequal Error Costs\n",
        "\n",
        "df = dataset.dropna()\n",
        "\n",
        "#Define features and target variable\n",
        "X = df[['Odometer (KM)', 'Doors', 'Price']]\n",
        "y = df['Doors']\n",
        "\n",
        "#Split the data into training and testing sets\n",
        "X_train, X_test, y_train, y_test = train_test_split(X, y, test_size=0.2, random_state=42)\n",
        "\n",
        "#Initialize and train the logistic regression model\n",
        "model = LogisticRegression(random_state=42)\n",
        "model.fit(X_train, y_train)\n",
        "\n",
        "#Make predictions on the test set\n",
        "y_pred = model.predict(X_test)\n",
        "\n",
        "#Evaluate the performance of the classification model with default threshold\n",
        "print(\"Default Threshold:\")\n",
        "print(confusion_matrix(y_test, y_pred))\n",
        "print(classification_report(y_test, y_pred))\n",
        "\n",
        "#Define unequal error costs\n",
        "cost_false_positive = 1  # Cost of a false positive\n",
        "cost_false_negative = 5  # Cost of a false negative\n",
        "\n",
        "#Adjust the decision threshold based on error costs\n",
        "decision_threshold = cost_false_negative / (cost_false_positive + cost_false_negative)\n",
        "y_pred_adjusted = (model.predict_proba(X_test)[:, 1] > decision_threshold).astype(int)\n",
        "\n",
        "#Evaluate the performance of the classification model with adjusted threshold\n",
        "print(\"\\nAdjusted Threshold:\")\n",
        "print(confusion_matrix(y_test, y_pred_adjusted))\n",
        "print(classification_report(y_test, y_pred_adjusted))"
      ],
      "metadata": {
        "id": "c8tGSRMO_9t3",
        "colab": {
          "base_uri": "https://localhost:8080/"
        },
        "outputId": "fe88bc68-8777-461f-9ac7-4d2896d9ceb6"
      },
      "execution_count": 103,
      "outputs": [
        {
          "output_type": "stream",
          "name": "stderr",
          "text": [
            "/usr/local/lib/python3.10/dist-packages/ipykernel/ipkernel.py:283: DeprecationWarning: `should_run_async` will not call `transform_cell` automatically in the future. Please pass the result to `transformed_cell` argument and any exception that happen during thetransform in `preprocessing_exc_tuple` in IPython 7.17 and above.\n",
            "  and should_run_async(code)\n"
          ]
        },
        {
          "output_type": "stream",
          "name": "stdout",
          "text": [
            "Default Threshold:\n",
            "[[  0   9   0]\n",
            " [  0 111   0]\n",
            " [  0   8   0]]\n",
            "              precision    recall  f1-score   support\n",
            "\n",
            "         3.0       0.00      0.00      0.00         9\n",
            "         4.0       0.87      1.00      0.93       111\n",
            "         5.0       0.00      0.00      0.00         8\n",
            "\n",
            "    accuracy                           0.87       128\n",
            "   macro avg       0.29      0.33      0.31       128\n",
            "weighted avg       0.75      0.87      0.81       128\n",
            "\n",
            "\n",
            "Adjusted Threshold:\n",
            "[[ 0  0  0  0  0]\n",
            " [ 0  0  0  0  0]\n",
            " [ 2  7  0  0  0]\n",
            " [59 52  0  0  0]\n",
            " [ 4  4  0  0  0]]\n",
            "              precision    recall  f1-score   support\n",
            "\n",
            "         0.0       0.00      0.00      0.00       0.0\n",
            "         1.0       0.00      0.00      0.00       0.0\n",
            "         3.0       0.00      0.00      0.00       9.0\n",
            "         4.0       0.00      0.00      0.00     111.0\n",
            "         5.0       0.00      0.00      0.00       8.0\n",
            "\n",
            "    accuracy                           0.00     128.0\n",
            "   macro avg       0.00      0.00      0.00     128.0\n",
            "weighted avg       0.00      0.00      0.00     128.0\n",
            "\n"
          ]
        },
        {
          "output_type": "stream",
          "name": "stderr",
          "text": [
            "/usr/local/lib/python3.10/dist-packages/sklearn/metrics/_classification.py:1344: UndefinedMetricWarning: Precision and F-score are ill-defined and being set to 0.0 in labels with no predicted samples. Use `zero_division` parameter to control this behavior.\n",
            "  _warn_prf(average, modifier, msg_start, len(result))\n",
            "/usr/local/lib/python3.10/dist-packages/sklearn/metrics/_classification.py:1344: UndefinedMetricWarning: Precision and F-score are ill-defined and being set to 0.0 in labels with no predicted samples. Use `zero_division` parameter to control this behavior.\n",
            "  _warn_prf(average, modifier, msg_start, len(result))\n",
            "/usr/local/lib/python3.10/dist-packages/sklearn/metrics/_classification.py:1344: UndefinedMetricWarning: Precision and F-score are ill-defined and being set to 0.0 in labels with no predicted samples. Use `zero_division` parameter to control this behavior.\n",
            "  _warn_prf(average, modifier, msg_start, len(result))\n",
            "/usr/local/lib/python3.10/dist-packages/sklearn/metrics/_classification.py:1344: UndefinedMetricWarning: Precision and F-score are ill-defined and being set to 0.0 in labels with no predicted samples. Use `zero_division` parameter to control this behavior.\n",
            "  _warn_prf(average, modifier, msg_start, len(result))\n",
            "/usr/local/lib/python3.10/dist-packages/sklearn/metrics/_classification.py:1344: UndefinedMetricWarning: Recall and F-score are ill-defined and being set to 0.0 in labels with no true samples. Use `zero_division` parameter to control this behavior.\n",
            "  _warn_prf(average, modifier, msg_start, len(result))\n",
            "/usr/local/lib/python3.10/dist-packages/sklearn/metrics/_classification.py:1344: UndefinedMetricWarning: Precision and F-score are ill-defined and being set to 0.0 in labels with no predicted samples. Use `zero_division` parameter to control this behavior.\n",
            "  _warn_prf(average, modifier, msg_start, len(result))\n",
            "/usr/local/lib/python3.10/dist-packages/sklearn/metrics/_classification.py:1344: UndefinedMetricWarning: Recall and F-score are ill-defined and being set to 0.0 in labels with no true samples. Use `zero_division` parameter to control this behavior.\n",
            "  _warn_prf(average, modifier, msg_start, len(result))\n",
            "/usr/local/lib/python3.10/dist-packages/sklearn/metrics/_classification.py:1344: UndefinedMetricWarning: Precision and F-score are ill-defined and being set to 0.0 in labels with no predicted samples. Use `zero_division` parameter to control this behavior.\n",
            "  _warn_prf(average, modifier, msg_start, len(result))\n",
            "/usr/local/lib/python3.10/dist-packages/sklearn/metrics/_classification.py:1344: UndefinedMetricWarning: Recall and F-score are ill-defined and being set to 0.0 in labels with no true samples. Use `zero_division` parameter to control this behavior.\n",
            "  _warn_prf(average, modifier, msg_start, len(result))\n"
          ]
        }
      ]
    },
    {
      "cell_type": "code",
      "source": [
        "# Application of Naïve Bayes\n",
        "\n",
        "df = dataset.dropna()\n",
        "\n",
        "#Define features and target variable\n",
        "X = df[['Odometer (KM)', 'Doors', 'Price']]\n",
        "y = df['Colour']\n",
        "\n",
        "#Split the data into training and testing sets\n",
        "X_train, X_test, y_train, y_test = train_test_split(X, y, test_size=0.2, random_state=42)\n",
        "\n",
        "#Initialize the Naïve Bayes classifier (assuming Gaussian Naïve Bayes in this case)\n",
        "nb_classifier = GaussianNB()\n",
        "\n",
        "#Train the classifier\n",
        "nb_classifier.fit(X_train, y_train)\n",
        "\n",
        "#Make predictions on the test set\n",
        "y_pred = nb_classifier.predict(X_test)\n",
        "\n",
        "#Evaluate the performance of the classifier\n",
        "accuracy = accuracy_score(y_test, y_pred)\n",
        "print(f\"Accuracy: {accuracy:.2f}\")\n",
        "\n",
        "#Display classification report\n",
        "print(classification_report(y_test, y_pred))"
      ],
      "metadata": {
        "id": "QFG7mNWo08vT",
        "colab": {
          "base_uri": "https://localhost:8080/"
        },
        "outputId": "cd7144b3-cc2e-4fc6-e102-28761626b82c"
      },
      "execution_count": 104,
      "outputs": [
        {
          "output_type": "stream",
          "name": "stdout",
          "text": [
            "Accuracy: 0.45\n",
            "              precision    recall  f1-score   support\n",
            "\n",
            "        BLCK       0.00      0.00      0.00        13\n",
            "         BLU       0.22      0.04      0.06        54\n",
            "         WTE       0.47      0.92      0.62        61\n",
            "\n",
            "    accuracy                           0.45       128\n",
            "   macro avg       0.23      0.32      0.23       128\n",
            "weighted avg       0.32      0.45      0.32       128\n",
            "\n"
          ]
        },
        {
          "output_type": "stream",
          "name": "stderr",
          "text": [
            "/usr/local/lib/python3.10/dist-packages/ipykernel/ipkernel.py:283: DeprecationWarning: `should_run_async` will not call `transform_cell` automatically in the future. Please pass the result to `transformed_cell` argument and any exception that happen during thetransform in `preprocessing_exc_tuple` in IPython 7.17 and above.\n",
            "  and should_run_async(code)\n",
            "/usr/local/lib/python3.10/dist-packages/sklearn/metrics/_classification.py:1344: UndefinedMetricWarning: Precision and F-score are ill-defined and being set to 0.0 in labels with no predicted samples. Use `zero_division` parameter to control this behavior.\n",
            "  _warn_prf(average, modifier, msg_start, len(result))\n",
            "/usr/local/lib/python3.10/dist-packages/sklearn/metrics/_classification.py:1344: UndefinedMetricWarning: Precision and F-score are ill-defined and being set to 0.0 in labels with no predicted samples. Use `zero_division` parameter to control this behavior.\n",
            "  _warn_prf(average, modifier, msg_start, len(result))\n",
            "/usr/local/lib/python3.10/dist-packages/sklearn/metrics/_classification.py:1344: UndefinedMetricWarning: Precision and F-score are ill-defined and being set to 0.0 in labels with no predicted samples. Use `zero_division` parameter to control this behavior.\n",
            "  _warn_prf(average, modifier, msg_start, len(result))\n"
          ]
        }
      ]
    },
    {
      "cell_type": "code",
      "source": [
        "# Application of NEURAL NETWORKS\n",
        "\n",
        "df = dataset.dropna()\n",
        "\n",
        "#Define features and target variable\n",
        "X = df[['Odometer (KM)', 'Doors']]\n",
        "y = df['Price']\n",
        "\n",
        "#Split the data into training and testing sets\n",
        "X_train, X_test, y_train, y_test = train_test_split(X, y, test_size=0.2, random_state=42)\n",
        "\n",
        "#Standardize the features (important for neural networks)\n",
        "scaler = StandardScaler()\n",
        "X_train_scaled = scaler.fit_transform(X_train)\n",
        "X_test_scaled = scaler.transform(X_test)\n",
        "\n",
        "#Build a simple neural network\n",
        "model = tfk.Sequential([\n",
        "    tfk.layers.Dense(64, activation='relu', input_shape=(X_train_scaled.shape[1],)),\n",
        "    tfk.layers.Dense(32, activation='relu'),\n",
        "    tfk.layers.Dense(1)  #Output layer for regression task\n",
        "])\n",
        "\n",
        "#Compile the model\n",
        "model.compile(optimizer='adam', loss='mean_squared_error')\n",
        "\n",
        "#Train the model\n",
        "model.fit(X_train_scaled, y_train, epochs=50, batch_size=32, validation_split=0.2)\n",
        "\n",
        "#Evaluate the model on the test set\n",
        "mse = model.evaluate(X_test_scaled, y_test)\n",
        "print(f\"Mean Squared Error on Test Set: {mse}\")\n",
        "\n",
        "#Make predictions\n",
        "predictions = model.predict(X_test_scaled)\n",
        "print(predictions)"
      ],
      "metadata": {
        "id": "f2Rq37L91SBZ",
        "colab": {
          "base_uri": "https://localhost:8080/"
        },
        "outputId": "15d76d68-6c9c-4338-fef2-eef24fce4248"
      },
      "execution_count": 105,
      "outputs": [
        {
          "output_type": "stream",
          "name": "stderr",
          "text": [
            "/usr/local/lib/python3.10/dist-packages/ipykernel/ipkernel.py:283: DeprecationWarning: `should_run_async` will not call `transform_cell` automatically in the future. Please pass the result to `transformed_cell` argument and any exception that happen during thetransform in `preprocessing_exc_tuple` in IPython 7.17 and above.\n",
            "  and should_run_async(code)\n"
          ]
        },
        {
          "output_type": "stream",
          "name": "stdout",
          "text": [
            "Epoch 1/50\n",
            "13/13 [==============================] - 1s 18ms/step - loss: 336779008.0000 - val_loss: 342121536.0000\n",
            "Epoch 2/50\n",
            "13/13 [==============================] - 0s 5ms/step - loss: 336766304.0000 - val_loss: 342109888.0000\n",
            "Epoch 3/50\n",
            "13/13 [==============================] - 0s 4ms/step - loss: 336754720.0000 - val_loss: 342098656.0000\n",
            "Epoch 4/50\n",
            "13/13 [==============================] - 0s 5ms/step - loss: 336741728.0000 - val_loss: 342083680.0000\n",
            "Epoch 5/50\n",
            "13/13 [==============================] - 0s 6ms/step - loss: 336724416.0000 - val_loss: 342063840.0000\n",
            "Epoch 6/50\n",
            "13/13 [==============================] - 0s 5ms/step - loss: 336701536.0000 - val_loss: 342037728.0000\n",
            "Epoch 7/50\n",
            "13/13 [==============================] - 0s 5ms/step - loss: 336671296.0000 - val_loss: 342003136.0000\n",
            "Epoch 8/50\n",
            "13/13 [==============================] - 0s 5ms/step - loss: 336631200.0000 - val_loss: 341958400.0000\n",
            "Epoch 9/50\n",
            "13/13 [==============================] - 0s 5ms/step - loss: 336580320.0000 - val_loss: 341900032.0000\n",
            "Epoch 10/50\n",
            "13/13 [==============================] - 0s 4ms/step - loss: 336513664.0000 - val_loss: 341827136.0000\n",
            "Epoch 11/50\n",
            "13/13 [==============================] - 0s 6ms/step - loss: 336433280.0000 - val_loss: 341735232.0000\n",
            "Epoch 12/50\n",
            "13/13 [==============================] - 0s 5ms/step - loss: 336328768.0000 - val_loss: 341625440.0000\n",
            "Epoch 13/50\n",
            "13/13 [==============================] - 0s 6ms/step - loss: 336206752.0000 - val_loss: 341489696.0000\n",
            "Epoch 14/50\n",
            "13/13 [==============================] - 0s 6ms/step - loss: 336057728.0000 - val_loss: 341329088.0000\n",
            "Epoch 15/50\n",
            "13/13 [==============================] - 0s 4ms/step - loss: 335882336.0000 - val_loss: 341138688.0000\n",
            "Epoch 16/50\n",
            "13/13 [==============================] - 0s 6ms/step - loss: 335673792.0000 - val_loss: 340918400.0000\n",
            "Epoch 17/50\n",
            "13/13 [==============================] - 0s 4ms/step - loss: 335440704.0000 - val_loss: 340659552.0000\n",
            "Epoch 18/50\n",
            "13/13 [==============================] - 0s 5ms/step - loss: 335158048.0000 - val_loss: 340371200.0000\n",
            "Epoch 19/50\n",
            "13/13 [==============================] - 0s 6ms/step - loss: 334852032.0000 - val_loss: 340036896.0000\n",
            "Epoch 20/50\n",
            "13/13 [==============================] - 0s 5ms/step - loss: 334495872.0000 - val_loss: 339659552.0000\n",
            "Epoch 21/50\n",
            "13/13 [==============================] - 0s 5ms/step - loss: 334093824.0000 - val_loss: 339240544.0000\n",
            "Epoch 22/50\n",
            "13/13 [==============================] - 0s 5ms/step - loss: 333658944.0000 - val_loss: 338768800.0000\n",
            "Epoch 23/50\n",
            "13/13 [==============================] - 0s 4ms/step - loss: 333157600.0000 - val_loss: 338258176.0000\n",
            "Epoch 24/50\n",
            "13/13 [==============================] - 0s 6ms/step - loss: 332626688.0000 - val_loss: 337679424.0000\n",
            "Epoch 25/50\n",
            "13/13 [==============================] - 0s 6ms/step - loss: 332026464.0000 - val_loss: 337063104.0000\n",
            "Epoch 26/50\n",
            "13/13 [==============================] - 0s 7ms/step - loss: 331392736.0000 - val_loss: 336380320.0000\n",
            "Epoch 27/50\n",
            "13/13 [==============================] - 0s 6ms/step - loss: 330688544.0000 - val_loss: 335640832.0000\n",
            "Epoch 28/50\n",
            "13/13 [==============================] - 0s 4ms/step - loss: 329928416.0000 - val_loss: 334852768.0000\n",
            "Epoch 29/50\n",
            "13/13 [==============================] - 0s 5ms/step - loss: 329122944.0000 - val_loss: 333988032.0000\n",
            "Epoch 30/50\n",
            "13/13 [==============================] - 0s 4ms/step - loss: 328248544.0000 - val_loss: 333058496.0000\n",
            "Epoch 31/50\n",
            "13/13 [==============================] - 0s 5ms/step - loss: 327309280.0000 - val_loss: 332064608.0000\n",
            "Epoch 32/50\n",
            "13/13 [==============================] - 0s 6ms/step - loss: 326306912.0000 - val_loss: 331009408.0000\n",
            "Epoch 33/50\n",
            "13/13 [==============================] - 0s 6ms/step - loss: 325233536.0000 - val_loss: 329908128.0000\n",
            "Epoch 34/50\n",
            "13/13 [==============================] - 0s 5ms/step - loss: 324103200.0000 - val_loss: 328721056.0000\n",
            "Epoch 35/50\n",
            "13/13 [==============================] - 0s 6ms/step - loss: 322898944.0000 - val_loss: 327463776.0000\n",
            "Epoch 36/50\n",
            "13/13 [==============================] - 0s 6ms/step - loss: 321652864.0000 - val_loss: 326097312.0000\n",
            "Epoch 37/50\n",
            "13/13 [==============================] - 0s 5ms/step - loss: 320286208.0000 - val_loss: 324699744.0000\n",
            "Epoch 38/50\n",
            "13/13 [==============================] - 0s 6ms/step - loss: 318877056.0000 - val_loss: 323210976.0000\n",
            "Epoch 39/50\n",
            "13/13 [==============================] - 0s 4ms/step - loss: 317396512.0000 - val_loss: 321628448.0000\n",
            "Epoch 40/50\n",
            "13/13 [==============================] - 0s 6ms/step - loss: 315831456.0000 - val_loss: 319965312.0000\n",
            "Epoch 41/50\n",
            "13/13 [==============================] - 0s 5ms/step - loss: 314186848.0000 - val_loss: 318232352.0000\n",
            "Epoch 42/50\n",
            "13/13 [==============================] - 0s 6ms/step - loss: 312494048.0000 - val_loss: 316414464.0000\n",
            "Epoch 43/50\n",
            "13/13 [==============================] - 0s 4ms/step - loss: 310711488.0000 - val_loss: 314523840.0000\n",
            "Epoch 44/50\n",
            "13/13 [==============================] - 0s 5ms/step - loss: 308827392.0000 - val_loss: 312573248.0000\n",
            "Epoch 45/50\n",
            "13/13 [==============================] - 0s 4ms/step - loss: 306930592.0000 - val_loss: 310494624.0000\n",
            "Epoch 46/50\n",
            "13/13 [==============================] - 0s 5ms/step - loss: 304887552.0000 - val_loss: 308376768.0000\n",
            "Epoch 47/50\n",
            "13/13 [==============================] - 0s 4ms/step - loss: 302789984.0000 - val_loss: 306194880.0000\n",
            "Epoch 48/50\n",
            "13/13 [==============================] - 0s 6ms/step - loss: 300650080.0000 - val_loss: 303900800.0000\n",
            "Epoch 49/50\n",
            "13/13 [==============================] - 0s 6ms/step - loss: 298421984.0000 - val_loss: 301504480.0000\n",
            "Epoch 50/50\n",
            "13/13 [==============================] - 0s 4ms/step - loss: 296080576.0000 - val_loss: 299088512.0000\n",
            "4/4 [==============================] - 0s 3ms/step - loss: 336865664.0000\n",
            "Mean Squared Error on Test Set: 336865664.0\n",
            "4/4 [==============================] - 0s 3ms/step\n",
            "[[ 864.8994 ]\n",
            " [1200.8542 ]\n",
            " [ 984.4573 ]\n",
            " [1530.1731 ]\n",
            " [ 896.03876]\n",
            " [1306.3541 ]\n",
            " [1045.6559 ]\n",
            " [1511.9406 ]\n",
            " [1568.1293 ]\n",
            " [ 837.9574 ]\n",
            " [1214.389  ]\n",
            " [1129.029  ]\n",
            " [1513.5176 ]\n",
            " [ 843.3061 ]\n",
            " [1316.8892 ]\n",
            " [1311.871  ]\n",
            " [1428.2928 ]\n",
            " [1235.3837 ]\n",
            " [ 931.8925 ]\n",
            " [ 862.1295 ]\n",
            " [1432.4437 ]\n",
            " [1426.6422 ]\n",
            " [1114.683  ]\n",
            " [2122.806  ]\n",
            " [1096.0626 ]\n",
            " [1385.7122 ]\n",
            " [ 988.2361 ]\n",
            " [ 838.873  ]\n",
            " [1202.4175 ]\n",
            " [1363.5625 ]\n",
            " [1264.4915 ]\n",
            " [ 961.8233 ]\n",
            " [2147.1824 ]\n",
            " [1091.0289 ]\n",
            " [1337.5753 ]\n",
            " [1518.6198 ]\n",
            " [1235.7716 ]\n",
            " [ 859.9838 ]\n",
            " [ 871.089  ]\n",
            " [ 954.7061 ]\n",
            " [ 838.2066 ]\n",
            " [1531.7382 ]\n",
            " [ 878.88055]\n",
            " [2022.9506 ]\n",
            " [ 952.2217 ]\n",
            " [1532.8065 ]\n",
            " [ 936.64886]\n",
            " [1328.2156 ]\n",
            " [1245.3765 ]\n",
            " [2054.531  ]\n",
            " [1444.2101 ]\n",
            " [ 847.14557]\n",
            " [ 886.35126]\n",
            " [1968.8969 ]\n",
            " [1593.7981 ]\n",
            " [1426.7933 ]\n",
            " [1616.7777 ]\n",
            " [ 917.9976 ]\n",
            " [1618.6404 ]\n",
            " [ 923.41986]\n",
            " [1024.9816 ]\n",
            " [ 936.6283 ]\n",
            " [1446.381  ]\n",
            " [1283.7527 ]\n",
            " [1185.412  ]\n",
            " [1223.3528 ]\n",
            " [1563.7317 ]\n",
            " [1492.3352 ]\n",
            " [1484.6644 ]\n",
            " [2109.5815 ]\n",
            " [1640.2709 ]\n",
            " [ 841.33636]\n",
            " [1044.9156 ]\n",
            " [1625.9281 ]\n",
            " [1606.6183 ]\n",
            " [ 943.04095]\n",
            " [1265.37   ]\n",
            " [1053.1869 ]\n",
            " [1968.3251 ]\n",
            " [1642.677  ]\n",
            " [1255.4524 ]\n",
            " [1317.1464 ]\n",
            " [1329.4701 ]\n",
            " [ 935.70355]\n",
            " [1478.811  ]\n",
            " [1494.7301 ]\n",
            " [1200.6525 ]\n",
            " [ 967.3875 ]\n",
            " [ 908.3276 ]\n",
            " [1424.8842 ]\n",
            " [ 868.28705]\n",
            " [ 973.7117 ]\n",
            " [1246.4728 ]\n",
            " [1554.0653 ]\n",
            " [1332.2483 ]\n",
            " [ 862.4334 ]\n",
            " [ 968.13074]\n",
            " [1026.0541 ]\n",
            " [ 851.0555 ]\n",
            " [1271.9752 ]\n",
            " [ 870.9583 ]\n",
            " [1080.0664 ]\n",
            " [1425.8804 ]\n",
            " [1224.184  ]\n",
            " [1617.2589 ]\n",
            " [ 954.00323]\n",
            " [2041.9692 ]\n",
            " [1583.0839 ]\n",
            " [1598.1198 ]\n",
            " [1085.5437 ]\n",
            " [ 851.76483]\n",
            " [ 879.6966 ]\n",
            " [1110.4128 ]\n",
            " [ 935.4266 ]\n",
            " [1472.9943 ]\n",
            " [1281.838  ]\n",
            " [1049.1661 ]\n",
            " [1396.8229 ]\n",
            " [1074.0708 ]\n",
            " [ 859.2244 ]\n",
            " [ 923.93805]\n",
            " [2128.208  ]\n",
            " [1645.541  ]\n",
            " [ 975.9239 ]\n",
            " [ 957.5613 ]\n",
            " [1323.609  ]\n",
            " [1362.2202 ]\n",
            " [1483.5577 ]]\n"
          ]
        }
      ]
    },
    {
      "cell_type": "code",
      "source": [
        "# Application of k‐MEANS CLUSTERING\n",
        "\n",
        "df = dataset.dropna()\n",
        "\n",
        "#Select relevant features for clustering (you can customize this based on your needs)\n",
        "features = df[['Odometer (KM)', 'Doors', 'Price']]\n",
        "\n",
        "#Standardize the features\n",
        "scaler = StandardScaler()\n",
        "features_scaled = scaler.fit_transform(features)\n",
        "\n",
        "#Choose the number of clusters (you can adjust this based on your problem)\n",
        "num_clusters = 3\n",
        "\n",
        "#Apply k-Means clustering\n",
        "kmeans = KMeans(n_clusters=num_clusters, random_state=42)\n",
        "df['Cluster'] = kmeans.fit_predict(features_scaled)\n",
        "\n",
        "#Display the resulting clusters\n",
        "print(df[['Odometer (KM)', 'Doors', 'Price', 'Cluster']])\n",
        "\n",
        "#Visualize the clusters (for 2D data)\n",
        "plt.scatter(features_scaled[:, 0], features_scaled[:, 1], c=df['Cluster'], cmap='viridis')\n",
        "plt.title('k-Means Clustering')\n",
        "plt.xlabel('Odometer (Scaled)')\n",
        "plt.ylabel('Doors (Scaled)')\n",
        "plt.show()"
      ],
      "metadata": {
        "id": "gt3Dtyuw3APi",
        "colab": {
          "base_uri": "https://localhost:8080/",
          "height": 908
        },
        "outputId": "0c4a271d-9671-4f1a-e233-4072709cdd3c"
      },
      "execution_count": 106,
      "outputs": [
        {
          "output_type": "stream",
          "name": "stderr",
          "text": [
            "/usr/local/lib/python3.10/dist-packages/ipykernel/ipkernel.py:283: DeprecationWarning: `should_run_async` will not call `transform_cell` automatically in the future. Please pass the result to `transformed_cell` argument and any exception that happen during thetransform in `preprocessing_exc_tuple` in IPython 7.17 and above.\n",
            "  and should_run_async(code)\n",
            "/usr/local/lib/python3.10/dist-packages/sklearn/cluster/_kmeans.py:870: FutureWarning: The default value of `n_init` will change from 10 to 'auto' in 1.4. Set the value of `n_init` explicitly to suppress the warning\n",
            "  warnings.warn(\n",
            "<ipython-input-106-c7e3ae7bf94c>:17: SettingWithCopyWarning: \n",
            "A value is trying to be set on a copy of a slice from a DataFrame.\n",
            "Try using .loc[row_indexer,col_indexer] = value instead\n",
            "\n",
            "See the caveats in the documentation: https://pandas.pydata.org/pandas-docs/stable/user_guide/indexing.html#returning-a-view-versus-a-copy\n",
            "  df['Cluster'] = kmeans.fit_predict(features_scaled)\n"
          ]
        },
        {
          "output_type": "stream",
          "name": "stdout",
          "text": [
            "     Odometer (KM)  Doors    Price  Cluster\n",
            "1         192714.0    5.0  19943.0        2\n",
            "6         163453.0    4.0   8473.0        1\n",
            "9          51029.0    4.0  26683.0        0\n",
            "10        167421.0    4.0  16259.0        1\n",
            "12        102303.0    4.0  16909.0        0\n",
            "..             ...    ...      ...      ...\n",
            "994       163322.0    3.0  31666.0        0\n",
            "995        35820.0    4.0  32042.0        0\n",
            "997        66604.0    4.0  31570.0        0\n",
            "998       215883.0    4.0   4001.0        1\n",
            "999       248360.0    4.0  12732.0        1\n",
            "\n",
            "[638 rows x 4 columns]\n"
          ]
        },
        {
          "output_type": "display_data",
          "data": {
            "text/plain": [
              "<Figure size 640x480 with 1 Axes>"
            ],
            "image/png": "[encoded data removed]"
          },
          "metadata": {}
        }
      ]
    },
    {
      "cell_type": "code",
      "source": [
        "# Estimation Model Evaluation\n",
        "\n",
        "df = dataset.dropna()\n",
        "\n",
        "#Define features and target variable\n",
        "X = df[['Odometer (KM)', 'Doors']]\n",
        "y = df['Price']\n",
        "\n",
        "#Split the data into training and testing sets\n",
        "X_train, X_test, y_train, y_test = train_test_split(X, y, test_size=0.2, random_state=42)\n",
        "\n",
        "#Initialize and train the linear regression model\n",
        "model = LinearRegression()\n",
        "model.fit(X_train, y_train)\n",
        "\n",
        "#Make predictions on the test set\n",
        "y_pred = model.predict(X_test)\n",
        "\n",
        "#Evaluate the model using various metrics\n",
        "mae = mean_absolute_error(y_test, y_pred)\n",
        "mse = mean_squared_error(y_test, y_pred)\n",
        "r2 = r2_score(y_test, y_pred)\n",
        "\n",
        "#Display the evaluation metrics\n",
        "print(f\"Mean Absolute Error: {mae:.2f}\")\n",
        "print(f\"Mean Squared Error: {mse:.2f}\")\n",
        "print(f\"R-squared: {r2:.2f}\")"
      ],
      "metadata": {
        "id": "n3VuBt2u3jPM",
        "colab": {
          "base_uri": "https://localhost:8080/"
        },
        "outputId": "14a9e519-a318-4f30-cbcd-8da018489306"
      },
      "execution_count": 107,
      "outputs": [
        {
          "output_type": "stream",
          "name": "stdout",
          "text": [
            "Mean Absolute Error: 6481.68\n",
            "Mean Squared Error: 65356076.78\n",
            "R-squared: 0.22\n"
          ]
        },
        {
          "output_type": "stream",
          "name": "stderr",
          "text": [
            "/usr/local/lib/python3.10/dist-packages/ipykernel/ipkernel.py:283: DeprecationWarning: `should_run_async` will not call `transform_cell` automatically in the future. Please pass the result to `transformed_cell` argument and any exception that happen during thetransform in `preprocessing_exc_tuple` in IPython 7.17 and above.\n",
            "  and should_run_async(code)\n"
          ]
        }
      ]
    },
    {
      "cell_type": "code",
      "source": [
        "# Demonstrate How you will Identify Multicollinearity\n",
        "\n",
        "df = dataset.dropna()\n",
        "\n",
        "#Define features\n",
        "X = df[['Odometer (KM)', 'Doors', 'Price']]\n",
        "\n",
        "#Add a constant term for the intercept\n",
        "X = sm.add_constant(X)\n",
        "\n",
        "#Calculate VIF for each variable\n",
        "vif_data = pd.DataFrame()\n",
        "vif_data[\"Variable\"] = X.columns\n",
        "vif_data[\"VIF\"] = [variance_inflation_factor(X.values, i) for i in range(X.shape[1])]\n",
        "\n",
        "print(vif_data)"
      ],
      "metadata": {
        "id": "4_xa9Xhw504h",
        "colab": {
          "base_uri": "https://localhost:8080/"
        },
        "outputId": "71c3b1f8-3675-4ac8-c46a-40d5a01b6bdb"
      },
      "execution_count": null,
      "outputs": [
        {
          "output_type": "stream",
          "name": "stdout",
          "text": [
            "        Variable         VIF\n",
            "0          const  119.172562\n",
            "1  Odometer (KM)    1.238395\n",
            "2          Doors    1.076008\n",
            "3          Price    1.320500\n"
          ]
        },
        {
          "output_type": "stream",
          "name": "stderr",
          "text": [
            "/usr/local/lib/python3.10/dist-packages/ipykernel/ipkernel.py:283: DeprecationWarning: `should_run_async` will not call `transform_cell` automatically in the future. Please pass the result to `transformed_cell` argument and any exception that happen during thetransform in `preprocessing_exc_tuple` in IPython 7.17 and above.\n",
            "  and should_run_async(code)\n"
          ]
        }
      ]
    },
    {
      "cell_type": "code",
      "source": [
        "# Demonstrate HOW you’ll apply PRINCIPAL COMPONENTS ANALYSIS\n",
        "\n",
        "df = dataset.dropna()\n",
        "\n",
        "#Define features\n",
        "features = df[['Odometer (KM)', 'Doors', 'Price']]\n",
        "\n",
        "#Standardize the features\n",
        "scaler = StandardScaler()\n",
        "features_scaled = scaler.fit_transform(features)\n",
        "\n",
        "#Apply PCA\n",
        "pca = PCA()\n",
        "principal_components = pca.fit_transform(features_scaled)\n",
        "\n",
        "#Create a DataFrame to visualize the results\n",
        "pc_df = pd.DataFrame(data=principal_components, columns=['PC1', 'PC2', 'PC3'])\n",
        "\n",
        "#Display the principal components DataFrame\n",
        "print(pc_df.head())\n",
        "\n",
        "#Percentage of variance explained by each principal component\n",
        "explained_variance_ratio = pca.explained_variance_ratio_\n",
        "print(\"Explained Variance Ratios:\", explained_variance_ratio)\n",
        "\n",
        "#Cumulative variance explained\n",
        "cumulative_variance_ratio = explained_variance_ratio.cumsum()\n",
        "print(\"Cumulative Variance Explained:\", cumulative_variance_ratio)"
      ],
      "metadata": {
        "id": "apFpMgtQ6QGQ",
        "colab": {
          "base_uri": "https://localhost:8080/"
        },
        "outputId": "341e35b3-6d27-4ba1-d43c-2673dea218c9"
      },
      "execution_count": null,
      "outputs": [
        {
          "output_type": "stream",
          "name": "stdout",
          "text": [
            "        PC1       PC2       PC3\n",
            "0  0.740966 -2.660571  0.000674\n",
            "1  1.394745  0.692681 -0.128624\n",
            "2 -0.922663 -0.231771 -0.351389\n",
            "3  1.549944  0.641727  0.179950\n",
            "4 -0.321666 -0.233944  0.335818\n",
            "Explained Variance Ratios: [0.5039607  0.32487406 0.17116523]\n",
            "Cumulative Variance Explained: [0.5039607  0.82883477 1.        ]\n"
          ]
        },
        {
          "output_type": "stream",
          "name": "stderr",
          "text": [
            "/usr/local/lib/python3.10/dist-packages/ipykernel/ipkernel.py:283: DeprecationWarning: `should_run_async` will not call `transform_cell` automatically in the future. Please pass the result to `transformed_cell` argument and any exception that happen during thetransform in `preprocessing_exc_tuple` in IPython 7.17 and above.\n",
            "  and should_run_async(code)\n"
          ]
        }
      ]
    },
    {
      "cell_type": "markdown",
      "source": [
        "# New Section"
      ],
      "metadata": {
        "id": "rDr4QaC5tkGC"
      }
    },
    {
      "cell_type": "code",
      "source": [
        "from google.colab import files\n",
        "uploaded = files.upload()"
      ],
      "metadata": {
        "colab": {
          "base_uri": "https://localhost:8080/",
          "height": 128
        },
        "id": "m7ISkuoO_A77",
        "outputId": "54d8d4d2-9639-4d77-ab55-1224769c0072"
      },
      "execution_count": 20,
      "outputs": [
        {
          "output_type": "stream",
          "name": "stderr",
          "text": [
            "/usr/local/lib/python3.10/dist-packages/ipykernel/ipkernel.py:283: DeprecationWarning: `should_run_async` will not call `transform_cell` automatically in the future. Please pass the result to `transformed_cell` argument and any exception that happen during thetransform in `preprocessing_exc_tuple` in IPython 7.17 and above.\n",
            "  and should_run_async(code)\n"
          ]
        },
        {
          "output_type": "display_data",
          "data": {
            "text/plain": [
              "<IPython.core.display.HTML object>"
            ],
            "text/html": [
              "\n",
              "     <input type=\"file\" id=\"files-c71767db-0182-4c26-840a-fb22c8a40f6b\" name=\"files[]\" multiple disabled\n",
              "        style=\"border:none\" />\n",
              "     <output id=\"result-c71767db-0182-4c26-840a-fb22c8a40f6b\">\n",
              "      Upload widget is only available when the cell has been executed in the\n",
              "      current browser session. Please rerun this cell to enable.\n",
              "      </output>\n",
              "      <script>// Copyright 2017 Google LLC\n",
              "//\n",
              "// Licensed under the Apache License, Version 2.0 (the \"License\");\n",
              "// you may not use this file except in compliance with the License.\n",
              "// You may obtain a copy of the License at\n",
              "//\n",
              "//      http://www.apache.org/licenses/LICENSE-2.0\n",
              "//\n",
              "// Unless required by applicable law or agreed to in writing, software\n",
              "// distributed under the License is distributed on an \"AS IS\" BASIS,\n",
              "// WITHOUT WARRANTIES OR CONDITIONS OF ANY KIND, either express or implied.\n",
              "// See the License for the specific language governing permissions and\n",
              "// limitations under the License.\n",
              "\n",
              "/**\n",
              " * @fileoverview Helpers for google.colab Python module.\n",
              " */\n",
              "(function(scope) {\n",
              "function span(text, styleAttributes = {}) {\n",
              "  const element = document.createElement('span');\n",
              "  element.textContent = text;\n",
              "  for (const key of Object.keys(styleAttributes)) {\n",
              "    element.style[key] = styleAttributes[key];\n",
              "  }\n",
              "  return element;\n",
              "}\n",
              "\n",
              "// Max number of bytes which will be uploaded at a time.\n",
              "const MAX_PAYLOAD_SIZE = 100 * 1024;\n",
              "\n",
              "function _uploadFiles(inputId, outputId) {\n",
              "  const steps = uploadFilesStep(inputId, outputId);\n",
              "  const outputElement = document.getElementById(outputId);\n",
              "  // Cache steps on the outputElement to make it available for the next call\n",
              "  // to uploadFilesContinue from Python.\n",
              "  outputElement.steps = steps;\n",
              "\n",
              "  return _uploadFilesContinue(outputId);\n",
              "}\n",
              "\n",
              "// This is roughly an async generator (not supported in the browser yet),\n",
              "// where there are multiple asynchronous steps and the Python side is going\n",
              "// to poll for completion of each step.\n",
              "// This uses a Promise to block the python side on completion of each step,\n",
              "// then passes the result of the previous step as the input to the next step.\n",
              "function _uploadFilesContinue(outputId) {\n",
              "  const outputElement = document.getElementById(outputId);\n",
              "  const steps = outputElement.steps;\n",
              "\n",
              "  const next = steps.next(outputElement.lastPromiseValue);\n",
              "  return Promise.resolve(next.value.promise).then((value) => {\n",
              "    // Cache the last promise value to make it available to the next\n",
              "    // step of the generator.\n",
              "    outputElement.lastPromiseValue = value;\n",
              "    return next.value.response;\n",
              "  });\n",
              "}\n",
              "\n",
              "/**\n",
              " * Generator function which is called between each async step of the upload\n",
              " * process.\n",
              " * @param {string} inputId Element ID of the input file picker element.\n",
              " * @param {string} outputId Element ID of the output display.\n",
              " * @return {!Iterable<!Object>} Iterable of next steps.\n",
              " */\n",
              "function* uploadFilesStep(inputId, outputId) {\n",
              "  const inputElement = document.getElementById(inputId);\n",
              "  inputElement.disabled = false;\n",
              "\n",
              "  const outputElement = document.getElementById(outputId);\n",
              "  outputElement.innerHTML = '';\n",
              "\n",
              "  const pickedPromise = new Promise((resolve) => {\n",
              "    inputElement.addEventListener('change', (e) => {\n",
              "      resolve(e.target.files);\n",
              "    });\n",
              "  });\n",
              "\n",
              "  const cancel = document.createElement('button');\n",
              "  inputElement.parentElement.appendChild(cancel);\n",
              "  cancel.textContent = 'Cancel upload';\n",
              "  const cancelPromise = new Promise((resolve) => {\n",
              "    cancel.onclick = () => {\n",
              "      resolve(null);\n",
              "    };\n",
              "  });\n",
              "\n",
              "  // Wait for the user to pick the files.\n",
              "  const files = yield {\n",
              "    promise: Promise.race([pickedPromise, cancelPromise]),\n",
              "    response: {\n",
              "      action: 'starting',\n",
              "    }\n",
              "  };\n",
              "\n",
              "  cancel.remove();\n",
              "\n",
              "  // Disable the input element since further picks are not allowed.\n",
              "  inputElement.disabled = true;\n",
              "\n",
              "  if (!files) {\n",
              "    return {\n",
              "      response: {\n",
              "        action: 'complete',\n",
              "      }\n",
              "    };\n",
              "  }\n",
              "\n",
              "  for (const file of files) {\n",
              "    const li = document.createElement('li');\n",
              "    li.append(span(file.name, {fontWeight: 'bold'}));\n",
              "    li.append(span(\n",
              "        `(${file.type || 'n/a'}) - ${file.size} bytes, ` +\n",
              "        `last modified: ${\n",
              "            file.lastModifiedDate ? file.lastModifiedDate.toLocaleDateString() :\n",
              "                                    'n/a'} - `));\n",
              "    const percent = span('0% done');\n",
              "    li.appendChild(percent);\n",
              "\n",
              "    outputElement.appendChild(li);\n",
              "\n",
              "    const fileDataPromise = new Promise((resolve) => {\n",
              "      const reader = new FileReader();\n",
              "      reader.onload = (e) => {\n",
              "        resolve(e.target.result);\n",
              "      };\n",
              "      reader.readAsArrayBuffer(file);\n",
              "    });\n",
              "    // Wait for the data to be ready.\n",
              "    let fileData = yield {\n",
              "      promise: fileDataPromise,\n",
              "      response: {\n",
              "        action: 'continue',\n",
              "      }\n",
              "    };\n",
              "\n",
              "    // Use a chunked sending to avoid message size limits. See b/62115660.\n",
              "    let position = 0;\n",
              "    do {\n",
              "      const length = Math.min(fileData.byteLength - position, MAX_PAYLOAD_SIZE);\n",
              "      const chunk = new Uint8Array(fileData, position, length);\n",
              "      position += length;\n",
              "\n",
              "      const base64 = btoa(String.fromCharCode.apply(null, chunk));\n",
              "      yield {\n",
              "        response: {\n",
              "          action: 'append',\n",
              "          file: file.name,\n",
              "          data: base64,\n",
              "        },\n",
              "      };\n",
              "\n",
              "      let percentDone = fileData.byteLength === 0 ?\n",
              "          100 :\n",
              "          Math.round((position / fileData.byteLength) * 100);\n",
              "      percent.textContent = `${percentDone}% done`;\n",
              "\n",
              "    } while (position < fileData.byteLength);\n",
              "  }\n",
              "\n",
              "  // All done.\n",
              "  yield {\n",
              "    response: {\n",
              "      action: 'complete',\n",
              "    }\n",
              "  };\n",
              "}\n",
              "\n",
              "scope.google = scope.google || {};\n",
              "scope.google.colab = scope.google.colab || {};\n",
              "scope.google.colab._files = {\n",
              "  _uploadFiles,\n",
              "  _uploadFilesContinue,\n",
              "};\n",
              "})(self);\n",
              "</script> "
            ]
          },
          "metadata": {}
        },
        {
          "output_type": "stream",
          "name": "stdout",
          "text": [
            "Saving credit_record.csv to credit_record.csv\n"
          ]
        }
      ]
    },
    {
      "cell_type": "code",
      "source": [
        "cdata = pd.read_csv(\"credit_record.csv\")\n",
        "creditData = cdata[:8000]\n",
        "print(creditData.head)"
      ],
      "metadata": {
        "colab": {
          "base_uri": "https://localhost:8080/"
        },
        "id": "6IurG-aU_PTh",
        "outputId": "bd3a3c13-c7c8-4a9e-97f4-835d634c111e"
      },
      "execution_count": 21,
      "outputs": [
        {
          "output_type": "stream",
          "name": "stderr",
          "text": [
            "/usr/local/lib/python3.10/dist-packages/ipykernel/ipkernel.py:283: DeprecationWarning: `should_run_async` will not call `transform_cell` automatically in the future. Please pass the result to `transformed_cell` argument and any exception that happen during thetransform in `preprocessing_exc_tuple` in IPython 7.17 and above.\n",
            "  and should_run_async(code)\n"
          ]
        },
        {
          "output_type": "stream",
          "name": "stdout",
          "text": [
            "<bound method NDFrame.head of            ID  MONTHS_BALANCE STATUS\n",
            "0     5001711               0      X\n",
            "1     5001711              -1      0\n",
            "2     5001711              -2      0\n",
            "3     5001711              -3      0\n",
            "4     5001712               0      C\n",
            "...       ...             ...    ...\n",
            "7995  5002076              -8      X\n",
            "7996  5002076              -9      X\n",
            "7997  5002076             -10      X\n",
            "7998  5002077               0      X\n",
            "7999  5002077              -1      X\n",
            "\n",
            "[8000 rows x 3 columns]>\n"
          ]
        }
      ]
    },
    {
      "cell_type": "code",
      "source": [
        "# Partition the Data\n",
        "\n",
        "X = creditData[['ID', 'MONTHS_BALANCE']]\n",
        "y = creditData['STATUS']\n",
        "\n",
        "#Split the data into training and testing sets\n",
        "X_train, X_test, y_train, y_test = train_test_split(X, y, test_size=0.2, random_state=42)\n",
        "print(X_train)"
      ],
      "metadata": {
        "colab": {
          "base_uri": "https://localhost:8080/"
        },
        "id": "5Zsxfi5uTDFr",
        "outputId": "fb86222f-2d36-4f3f-869e-f679582753ed"
      },
      "execution_count": 22,
      "outputs": [
        {
          "output_type": "stream",
          "name": "stdout",
          "text": [
            "           ID  MONTHS_BALANCE\n",
            "1467  5001786             -15\n",
            "5768  5001989              -6\n",
            "5714  5001988              -5\n",
            "1578  5001790               0\n",
            "6958  5002031             -11\n",
            "...       ...             ...\n",
            "5226  5001960             -29\n",
            "5390  5001967             -24\n",
            "860   5001748             -21\n",
            "7603  5002055             -20\n",
            "7270  5002042             -23\n",
            "\n",
            "[6400 rows x 2 columns]\n"
          ]
        },
        {
          "output_type": "stream",
          "name": "stderr",
          "text": [
            "/usr/local/lib/python3.10/dist-packages/ipykernel/ipkernel.py:283: DeprecationWarning: `should_run_async` will not call `transform_cell` automatically in the future. Please pass the result to `transformed_cell` argument and any exception that happen during thetransform in `preprocessing_exc_tuple` in IPython 7.17 and above.\n",
            "  and should_run_async(code)\n"
          ]
        }
      ]
    },
    {
      "cell_type": "code",
      "source": [
        "# Balance the Training Data Set\n",
        "\n",
        "X = creditData[['ID', 'MONTHS_BALANCE']]\n",
        "y = creditData['STATUS']\n",
        "\n",
        "#Split the data into training and testing sets\n",
        "X_train, X_test, y_train, y_test = train_test_split(X, y, test_size=0.2, random_state=42)\n",
        "\n",
        "#Use Random Over-Sampling to balance the training dataset\n",
        "oversampler = RandomOverSampler(random_state=42)\n",
        "X_train_resampled, y_train_resampled = oversampler.fit_resample(X_train, y_train)\n",
        "print(X_train_resampled)"
      ],
      "metadata": {
        "colab": {
          "base_uri": "https://localhost:8080/"
        },
        "id": "9GKCoyfTUUg9",
        "outputId": "82a135f1-c117-4d9b-db49-926395ea6dc2"
      },
      "execution_count": 23,
      "outputs": [
        {
          "output_type": "stream",
          "name": "stdout",
          "text": [
            "           ID  MONTHS_BALANCE\n",
            "0     5001786             -15\n",
            "1     5001989              -6\n",
            "2     5001988              -5\n",
            "3     5001790               0\n",
            "4     5002031             -11\n",
            "...       ...             ...\n",
            "9927  5001848             -23\n",
            "9928  5001893             -12\n",
            "9929  5002055             -24\n",
            "9930  5001847              -9\n",
            "9931  5001996             -17\n",
            "\n",
            "[9932 rows x 2 columns]\n"
          ]
        },
        {
          "output_type": "stream",
          "name": "stderr",
          "text": [
            "/usr/local/lib/python3.10/dist-packages/ipykernel/ipkernel.py:283: DeprecationWarning: `should_run_async` will not call `transform_cell` automatically in the future. Please pass the result to `transformed_cell` argument and any exception that happen during thetransform in `preprocessing_exc_tuple` in IPython 7.17 and above.\n",
            "  and should_run_async(code)\n"
          ]
        }
      ]
    },
    {
      "cell_type": "code",
      "source": [
        "# Build CART Decision Trees\n",
        "\n",
        "X = creditData[['ID', 'MONTHS_BALANCE']]\n",
        "y = creditData['STATUS']\n",
        "\n",
        "#Split the data into training and testing sets\n",
        "X_train, X_test, y_train, y_test = train_test_split(X, y, test_size=0.2, random_state=42)\n",
        "\n",
        "#Initialize the Decision Tree Classifier\n",
        "tree_classifier = DecisionTreeClassifier(random_state=42)\n",
        "\n",
        "#Train the model\n",
        "tree_classifier.fit(X_train, y_train)\n",
        "\n",
        "#Make predictions on the test set\n",
        "y_pred = tree_classifier.predict(X_test)\n",
        "\n",
        "#Evaluate the model\n",
        "accuracy = accuracy_score(y_test, y_pred)\n",
        "conf_matrix = confusion_matrix(y_test, y_pred)\n",
        "classification_rep = classification_report(y_test, y_pred)\n",
        "\n",
        "\n",
        "print(\"Accuracy:\", accuracy)\n",
        "print(\"Confusion Matrix:\\n\", conf_matrix)\n",
        "print(\"Classification Report:\\n\", classification_rep)\n",
        "\n",
        "plt.figure(figsize=(12, 8))\n",
        "plot_tree(tree_classifier, filled=True, feature_names=X.columns, class_names=tree_classifier.classes_)\n",
        "plt.show()"
      ],
      "metadata": {
        "colab": {
          "base_uri": "https://localhost:8080/",
          "height": 1000
        },
        "id": "M8UlE2n9VX_W",
        "outputId": "42a7bdc6-13f3-4c79-9aa9-64d98eaf8c8d"
      },
      "execution_count": 24,
      "outputs": [
        {
          "output_type": "stream",
          "name": "stderr",
          "text": [
            "/usr/local/lib/python3.10/dist-packages/ipykernel/ipkernel.py:283: DeprecationWarning: `should_run_async` will not call `transform_cell` automatically in the future. Please pass the result to `transformed_cell` argument and any exception that happen during thetransform in `preprocessing_exc_tuple` in IPython 7.17 and above.\n",
            "  and should_run_async(code)\n"
          ]
        },
        {
          "output_type": "stream",
          "name": "stdout",
          "text": [
            "Accuracy: 0.904375\n",
            "Confusion Matrix:\n",
            " [[439   8  17  51]\n",
            " [  8   3   0   0]\n",
            " [ 15   2 599   3]\n",
            " [ 48   1   0 406]]\n",
            "Classification Report:\n",
            "               precision    recall  f1-score   support\n",
            "\n",
            "           0       0.86      0.85      0.86       515\n",
            "           1       0.21      0.27      0.24        11\n",
            "           C       0.97      0.97      0.97       619\n",
            "           X       0.88      0.89      0.89       455\n",
            "\n",
            "    accuracy                           0.90      1600\n",
            "   macro avg       0.73      0.75      0.74      1600\n",
            "weighted avg       0.91      0.90      0.91      1600\n",
            "\n"
          ]
        },
        {
          "output_type": "display_data",
          "data": {
            "text/plain": [
              "<Figure size 1200x800 with 1 Axes>"
            ],
            "image/png": "[encoded data removed]"
          },
          "metadata": {}
        }
      ]
    },
    {
      "cell_type": "code",
      "source": [
        "# Build Random Forests\n",
        "\n",
        "X = creditData[['ID', 'MONTHS_BALANCE']]\n",
        "y = creditData['STATUS']\n",
        "\n",
        "#Split the data into training and testing sets\n",
        "X_train, X_test, y_train, y_test = train_test_split(X, y, test_size=0.2, random_state=42)\n",
        "\n",
        "#Initialize the Random Forest Classifier\n",
        "rf_classifier = RandomForestClassifier(n_estimators=100, random_state=42)\n",
        "\n",
        "#Train the model\n",
        "rf_classifier.fit(X_train, y_train)\n",
        "\n",
        "#Make predictions on the test set\n",
        "y_pred = rf_classifier.predict(X_test)\n",
        "\n",
        "#Evaluate the model\n",
        "accuracy = accuracy_score(y_test, y_pred)\n",
        "conf_matrix = confusion_matrix(y_test, y_pred)\n",
        "classification_rep = classification_report(y_test, y_pred)\n",
        "\n",
        "print(\"Accuracy:\", accuracy)\n",
        "print(\"Confusion Matrix:\\n\", conf_matrix)\n",
        "print(\"Classification Report:\\n\", classification_rep)"
      ],
      "metadata": {
        "colab": {
          "base_uri": "https://localhost:8080/"
        },
        "id": "UcXOSp1RYWr2",
        "outputId": "a5aee9b4-ca1b-4b20-be53-f11beac1ed3a"
      },
      "execution_count": 25,
      "outputs": [
        {
          "output_type": "stream",
          "name": "stderr",
          "text": [
            "/usr/local/lib/python3.10/dist-packages/ipykernel/ipkernel.py:283: DeprecationWarning: `should_run_async` will not call `transform_cell` automatically in the future. Please pass the result to `transformed_cell` argument and any exception that happen during thetransform in `preprocessing_exc_tuple` in IPython 7.17 and above.\n",
            "  and should_run_async(code)\n"
          ]
        },
        {
          "output_type": "stream",
          "name": "stdout",
          "text": [
            "Accuracy: 0.598125\n",
            "Confusion Matrix:\n",
            " [[271   4 159  81]\n",
            " [  8   1   1   1]\n",
            " [127   2 406  84]\n",
            " [ 78   1  97 279]]\n",
            "Classification Report:\n",
            "               precision    recall  f1-score   support\n",
            "\n",
            "           0       0.56      0.53      0.54       515\n",
            "           1       0.12      0.09      0.11        11\n",
            "           C       0.61      0.66      0.63       619\n",
            "           X       0.63      0.61      0.62       455\n",
            "\n",
            "    accuracy                           0.60      1600\n",
            "   macro avg       0.48      0.47      0.48      1600\n",
            "weighted avg       0.60      0.60      0.60      1600\n",
            "\n"
          ]
        }
      ]
    },
    {
      "cell_type": "code",
      "source": [
        "# Perform Logistic Regression\n",
        "\n",
        "X = cdata[['MONTHS_BALANCE']]  #Features\n",
        "y = cdata['STATUS']  #Target variable\n",
        "\n",
        "#Split the dataset into training and testing sets\n",
        "X_train, X_test, y_train, y_test = train_test_split(X, y, test_size=0.2, random_state=42)\n",
        "\n",
        "#Initialize the logistic regression model\n",
        "model = LogisticRegression()\n",
        "\n",
        "#Train the model\n",
        "model.fit(X_train, y_train)\n",
        "\n",
        "#Make predictions on the test set\n",
        "y_pred = model.predict(X_test)\n",
        "\n",
        "#Evaluate the model\n",
        "accuracy = accuracy_score(y_test, y_pred)\n",
        "conf_matrix = confusion_matrix(y_test, y_pred)\n",
        "classification_rep = classification_report(y_test, y_pred)\n",
        "\n",
        "print(\"Accuracy:\", accuracy)\n",
        "print(\"Confusion Matrix:\\n\", conf_matrix)\n",
        "print(\"Classification Report:\\n\", classification_rep)\n"
      ],
      "metadata": {
        "colab": {
          "base_uri": "https://localhost:8080/"
        },
        "id": "h46zb4bO_nKz",
        "outputId": "bcacd6a7-ceee-4c68-e30f-1925809497f1"
      },
      "execution_count": 26,
      "outputs": [
        {
          "output_type": "stream",
          "name": "stderr",
          "text": [
            "/usr/local/lib/python3.10/dist-packages/ipykernel/ipkernel.py:283: DeprecationWarning: `should_run_async` will not call `transform_cell` automatically in the future. Please pass the result to `transformed_cell` argument and any exception that happen during thetransform in `preprocessing_exc_tuple` in IPython 7.17 and above.\n",
            "  and should_run_async(code)\n",
            "/usr/local/lib/python3.10/dist-packages/sklearn/linear_model/_logistic.py:458: ConvergenceWarning: lbfgs failed to converge (status=1):\n",
            "STOP: TOTAL NO. of ITERATIONS REACHED LIMIT.\n",
            "\n",
            "Increase the number of iterations (max_iter) or scale the data as shown in:\n",
            "    https://scikit-learn.org/stable/modules/preprocessing.html\n",
            "Please also refer to the documentation for alternative solver options:\n",
            "    https://scikit-learn.org/stable/modules/linear_model.html#logistic-regression\n",
            "  n_iter_i = _check_optimize_result(\n",
            "/usr/local/lib/python3.10/dist-packages/sklearn/metrics/_classification.py:1344: UndefinedMetricWarning: Precision and F-score are ill-defined and being set to 0.0 in labels with no predicted samples. Use `zero_division` parameter to control this behavior.\n",
            "  _warn_prf(average, modifier, msg_start, len(result))\n",
            "/usr/local/lib/python3.10/dist-packages/sklearn/metrics/_classification.py:1344: UndefinedMetricWarning: Precision and F-score are ill-defined and being set to 0.0 in labels with no predicted samples. Use `zero_division` parameter to control this behavior.\n",
            "  _warn_prf(average, modifier, msg_start, len(result))\n"
          ]
        },
        {
          "output_type": "stream",
          "name": "stdout",
          "text": [
            "Accuracy: 0.46120687599837873\n",
            "Confusion Matrix:\n",
            " [[32234     0     0     0     0     0 44547     0]\n",
            " [  920     0     0     0     0     0  1230     0]\n",
            " [   85     0     0     0     0     0    78     0]\n",
            " [   29     0     0     0     0     0    33     0]\n",
            " [   23     0     0     0     0     0    29     0]\n",
            " [  117     0     0     0     0     0   249     0]\n",
            " [23490     0     0     0     0     0 64488     0]\n",
            " [15887     0     0     0     0     0 26276     0]]\n",
            "Classification Report:\n",
            "               precision    recall  f1-score   support\n",
            "\n",
            "           0       0.44      0.42      0.43     76781\n",
            "           1       0.00      0.00      0.00      2150\n",
            "           2       0.00      0.00      0.00       163\n",
            "           3       0.00      0.00      0.00        62\n",
            "           4       0.00      0.00      0.00        52\n",
            "           5       0.00      0.00      0.00       366\n",
            "           C       0.47      0.73      0.57     87978\n",
            "           X       0.00      0.00      0.00     42163\n",
            "\n",
            "    accuracy                           0.46    209715\n",
            "   macro avg       0.11      0.14      0.13    209715\n",
            "weighted avg       0.36      0.46      0.40    209715\n",
            "\n"
          ]
        },
        {
          "output_type": "stream",
          "name": "stderr",
          "text": [
            "/usr/local/lib/python3.10/dist-packages/sklearn/metrics/_classification.py:1344: UndefinedMetricWarning: Precision and F-score are ill-defined and being set to 0.0 in labels with no predicted samples. Use `zero_division` parameter to control this behavior.\n",
            "  _warn_prf(average, modifier, msg_start, len(result))\n"
          ]
        }
      ]
    },
    {
      "cell_type": "code",
      "source": [
        "# Perform Poisson Regression\n",
        "\n",
        "cdata['COUNT'] = 1  #Creating a count variable for each observation\n",
        "X = cdata[['MONTHS_BALANCE']]  #Features\n",
        "y = cdata['COUNT']  #Target variable\n",
        "\n",
        "#Fit Poisson regression model\n",
        "poisson_model = sm.GLM(y, X, family=sm.families.Poisson()).fit()\n",
        "\n",
        "print(poisson_model.summary())"
      ],
      "metadata": {
        "colab": {
          "base_uri": "https://localhost:8080/"
        },
        "id": "xDbTc3qzBp6D",
        "outputId": "934c5686-c79f-4527-ae6d-1ff4fb8894bb"
      },
      "execution_count": 27,
      "outputs": [
        {
          "output_type": "stream",
          "name": "stderr",
          "text": [
            "/usr/local/lib/python3.10/dist-packages/ipykernel/ipkernel.py:283: DeprecationWarning: `should_run_async` will not call `transform_cell` automatically in the future. Please pass the result to `transformed_cell` argument and any exception that happen during thetransform in `preprocessing_exc_tuple` in IPython 7.17 and above.\n",
            "  and should_run_async(code)\n",
            "/usr/local/lib/python3.10/dist-packages/statsmodels/genmod/generalized_linear_model.py:1342: PerfectSeparationWarning: Perfect separation or prediction detected, parameter may not be identified\n",
            "  warnings.warn(msg, category=PerfectSeparationWarning)\n"
          ]
        },
        {
          "output_type": "stream",
          "name": "stdout",
          "text": [
            "                 Generalized Linear Model Regression Results                  \n",
            "==============================================================================\n",
            "Dep. Variable:                  COUNT   No. Observations:              1048575\n",
            "Model:                            GLM   Df Residuals:                  1048574\n",
            "Model Family:                 Poisson   Df Model:                            0\n",
            "Link Function:                    Log   Scale:                          1.0000\n",
            "Method:                          IRLS   Log-Likelihood:            -1.0486e+06\n",
            "Date:                Tue, 26 Dec 2023   Deviance:                       0.0000\n",
            "Time:                        15:28:02   Pearson chi2:                     0.00\n",
            "No. Iterations:                     1   Pseudo R-squ. (CS):              0.000\n",
            "Covariance Type:            nonrobust                                         \n",
            "==================================================================================\n",
            "                     coef    std err          z      P>|z|      [0.025      0.975]\n",
            "----------------------------------------------------------------------------------\n",
            "MONTHS_BALANCE          0   4.12e-05          0      1.000   -8.07e-05    8.07e-05\n",
            "==================================================================================\n"
          ]
        }
      ]
    },
    {
      "cell_type": "markdown",
      "source": [
        "# New Section"
      ],
      "metadata": {
        "id": "zu6AcFMAatpc"
      }
    },
    {
      "cell_type": "code",
      "source": [
        "from google.colab import files\n",
        "uploaded = files.upload()"
      ],
      "metadata": {
        "colab": {
          "base_uri": "https://localhost:8080/",
          "height": 128
        },
        "id": "sPr-1PAOarEq",
        "outputId": "e9eaf83e-1c8e-4b27-e9d6-53ef77b3250d"
      },
      "execution_count": 15,
      "outputs": [
        {
          "output_type": "stream",
          "name": "stderr",
          "text": [
            "/usr/local/lib/python3.10/dist-packages/ipykernel/ipkernel.py:283: DeprecationWarning: `should_run_async` will not call `transform_cell` automatically in the future. Please pass the result to `transformed_cell` argument and any exception that happen during thetransform in `preprocessing_exc_tuple` in IPython 7.17 and above.\n",
            "  and should_run_async(code)\n"
          ]
        },
        {
          "output_type": "display_data",
          "data": {
            "text/plain": [
              "<IPython.core.display.HTML object>"
            ],
            "text/html": [
              "\n",
              "     <input type=\"file\" id=\"files-fac5a867-9403-45e9-a17b-93e541ba35e3\" name=\"files[]\" multiple disabled\n",
              "        style=\"border:none\" />\n",
              "     <output id=\"result-fac5a867-9403-45e9-a17b-93e541ba35e3\">\n",
              "      Upload widget is only available when the cell has been executed in the\n",
              "      current browser session. Please rerun this cell to enable.\n",
              "      </output>\n",
              "      <script>// Copyright 2017 Google LLC\n",
              "//\n",
              "// Licensed under the Apache License, Version 2.0 (the \"License\");\n",
              "// you may not use this file except in compliance with the License.\n",
              "// You may obtain a copy of the License at\n",
              "//\n",
              "//      http://www.apache.org/licenses/LICENSE-2.0\n",
              "//\n",
              "// Unless required by applicable law or agreed to in writing, software\n",
              "// distributed under the License is distributed on an \"AS IS\" BASIS,\n",
              "// WITHOUT WARRANTIES OR CONDITIONS OF ANY KIND, either express or implied.\n",
              "// See the License for the specific language governing permissions and\n",
              "// limitations under the License.\n",
              "\n",
              "/**\n",
              " * @fileoverview Helpers for google.colab Python module.\n",
              " */\n",
              "(function(scope) {\n",
              "function span(text, styleAttributes = {}) {\n",
              "  const element = document.createElement('span');\n",
              "  element.textContent = text;\n",
              "  for (const key of Object.keys(styleAttributes)) {\n",
              "    element.style[key] = styleAttributes[key];\n",
              "  }\n",
              "  return element;\n",
              "}\n",
              "\n",
              "// Max number of bytes which will be uploaded at a time.\n",
              "const MAX_PAYLOAD_SIZE = 100 * 1024;\n",
              "\n",
              "function _uploadFiles(inputId, outputId) {\n",
              "  const steps = uploadFilesStep(inputId, outputId);\n",
              "  const outputElement = document.getElementById(outputId);\n",
              "  // Cache steps on the outputElement to make it available for the next call\n",
              "  // to uploadFilesContinue from Python.\n",
              "  outputElement.steps = steps;\n",
              "\n",
              "  return _uploadFilesContinue(outputId);\n",
              "}\n",
              "\n",
              "// This is roughly an async generator (not supported in the browser yet),\n",
              "// where there are multiple asynchronous steps and the Python side is going\n",
              "// to poll for completion of each step.\n",
              "// This uses a Promise to block the python side on completion of each step,\n",
              "// then passes the result of the previous step as the input to the next step.\n",
              "function _uploadFilesContinue(outputId) {\n",
              "  const outputElement = document.getElementById(outputId);\n",
              "  const steps = outputElement.steps;\n",
              "\n",
              "  const next = steps.next(outputElement.lastPromiseValue);\n",
              "  return Promise.resolve(next.value.promise).then((value) => {\n",
              "    // Cache the last promise value to make it available to the next\n",
              "    // step of the generator.\n",
              "    outputElement.lastPromiseValue = value;\n",
              "    return next.value.response;\n",
              "  });\n",
              "}\n",
              "\n",
              "/**\n",
              " * Generator function which is called between each async step of the upload\n",
              " * process.\n",
              " * @param {string} inputId Element ID of the input file picker element.\n",
              " * @param {string} outputId Element ID of the output display.\n",
              " * @return {!Iterable<!Object>} Iterable of next steps.\n",
              " */\n",
              "function* uploadFilesStep(inputId, outputId) {\n",
              "  const inputElement = document.getElementById(inputId);\n",
              "  inputElement.disabled = false;\n",
              "\n",
              "  const outputElement = document.getElementById(outputId);\n",
              "  outputElement.innerHTML = '';\n",
              "\n",
              "  const pickedPromise = new Promise((resolve) => {\n",
              "    inputElement.addEventListener('change', (e) => {\n",
              "      resolve(e.target.files);\n",
              "    });\n",
              "  });\n",
              "\n",
              "  const cancel = document.createElement('button');\n",
              "  inputElement.parentElement.appendChild(cancel);\n",
              "  cancel.textContent = 'Cancel upload';\n",
              "  const cancelPromise = new Promise((resolve) => {\n",
              "    cancel.onclick = () => {\n",
              "      resolve(null);\n",
              "    };\n",
              "  });\n",
              "\n",
              "  // Wait for the user to pick the files.\n",
              "  const files = yield {\n",
              "    promise: Promise.race([pickedPromise, cancelPromise]),\n",
              "    response: {\n",
              "      action: 'starting',\n",
              "    }\n",
              "  };\n",
              "\n",
              "  cancel.remove();\n",
              "\n",
              "  // Disable the input element since further picks are not allowed.\n",
              "  inputElement.disabled = true;\n",
              "\n",
              "  if (!files) {\n",
              "    return {\n",
              "      response: {\n",
              "        action: 'complete',\n",
              "      }\n",
              "    };\n",
              "  }\n",
              "\n",
              "  for (const file of files) {\n",
              "    const li = document.createElement('li');\n",
              "    li.append(span(file.name, {fontWeight: 'bold'}));\n",
              "    li.append(span(\n",
              "        `(${file.type || 'n/a'}) - ${file.size} bytes, ` +\n",
              "        `last modified: ${\n",
              "            file.lastModifiedDate ? file.lastModifiedDate.toLocaleDateString() :\n",
              "                                    'n/a'} - `));\n",
              "    const percent = span('0% done');\n",
              "    li.appendChild(percent);\n",
              "\n",
              "    outputElement.appendChild(li);\n",
              "\n",
              "    const fileDataPromise = new Promise((resolve) => {\n",
              "      const reader = new FileReader();\n",
              "      reader.onload = (e) => {\n",
              "        resolve(e.target.result);\n",
              "      };\n",
              "      reader.readAsArrayBuffer(file);\n",
              "    });\n",
              "    // Wait for the data to be ready.\n",
              "    let fileData = yield {\n",
              "      promise: fileDataPromise,\n",
              "      response: {\n",
              "        action: 'continue',\n",
              "      }\n",
              "    };\n",
              "\n",
              "    // Use a chunked sending to avoid message size limits. See b/62115660.\n",
              "    let position = 0;\n",
              "    do {\n",
              "      const length = Math.min(fileData.byteLength - position, MAX_PAYLOAD_SIZE);\n",
              "      const chunk = new Uint8Array(fileData, position, length);\n",
              "      position += length;\n",
              "\n",
              "      const base64 = btoa(String.fromCharCode.apply(null, chunk));\n",
              "      yield {\n",
              "        response: {\n",
              "          action: 'append',\n",
              "          file: file.name,\n",
              "          data: base64,\n",
              "        },\n",
              "      };\n",
              "\n",
              "      let percentDone = fileData.byteLength === 0 ?\n",
              "          100 :\n",
              "          Math.round((position / fileData.byteLength) * 100);\n",
              "      percent.textContent = `${percentDone}% done`;\n",
              "\n",
              "    } while (position < fileData.byteLength);\n",
              "  }\n",
              "\n",
              "  // All done.\n",
              "  yield {\n",
              "    response: {\n",
              "      action: 'complete',\n",
              "    }\n",
              "  };\n",
              "}\n",
              "\n",
              "scope.google = scope.google || {};\n",
              "scope.google.colab = scope.google.colab || {};\n",
              "scope.google.colab._files = {\n",
              "  _uploadFiles,\n",
              "  _uploadFilesContinue,\n",
              "};\n",
              "})(self);\n",
              "</script> "
            ]
          },
          "metadata": {}
        },
        {
          "output_type": "stream",
          "name": "stdout",
          "text": [
            "Saving Bakery.csv to Bakery.csv\n"
          ]
        }
      ]
    },
    {
      "cell_type": "code",
      "source": [
        "sdata = pd.read_csv(\"Bakery.csv\")\n",
        "shopData=sdata[:8000]\n",
        "print(shopData)"
      ],
      "metadata": {
        "colab": {
          "base_uri": "https://localhost:8080/"
        },
        "id": "2wn3vTbfc0kl",
        "outputId": "bfb023ff-0227-48d1-c87e-26b77db9fab9"
      },
      "execution_count": 16,
      "outputs": [
        {
          "output_type": "stream",
          "name": "stdout",
          "text": [
            "      TransactionNo           Items             DateTime    Daypart  DayType\n",
            "0                 1           Bread  2016-10-30 09:58:11    Morning  Weekend\n",
            "1                 2    Scandinavian  2016-10-30 10:05:34    Morning  Weekend\n",
            "2                 2    Scandinavian  2016-10-30 10:05:34    Morning  Weekend\n",
            "3                 3   Hot chocolate  2016-10-30 10:07:57    Morning  Weekend\n",
            "4                 3             Jam  2016-10-30 10:07:57    Morning  Weekend\n",
            "...             ...             ...                  ...        ...      ...\n",
            "7995           4011  Jammie Dodgers  2016-12-30 13:43:23  Afternoon  Weekday\n",
            "7996           4011           Bread  2016-12-30 13:43:23  Afternoon  Weekday\n",
            "7997           4012            Coke  2016-12-30 13:45:32  Afternoon  Weekday\n",
            "7998           4012        Sandwich  2016-12-30 13:45:32  Afternoon  Weekday\n",
            "7999           4013       Medialuna  2016-12-30 13:46:43  Afternoon  Weekday\n",
            "\n",
            "[8000 rows x 5 columns]\n"
          ]
        },
        {
          "output_type": "stream",
          "name": "stderr",
          "text": [
            "/usr/local/lib/python3.10/dist-packages/ipykernel/ipkernel.py:283: DeprecationWarning: `should_run_async` will not call `transform_cell` automatically in the future. Please pass the result to `transformed_cell` argument and any exception that happen during thetransform in `preprocessing_exc_tuple` in IPython 7.17 and above.\n",
            "  and should_run_async(code)\n"
          ]
        }
      ]
    },
    {
      "cell_type": "code",
      "source": [
        "#  Mine Association Rules\n",
        "\n",
        "transactions = shopData.groupby('TransactionNo')['Items'].apply(list).values.tolist()\n",
        "\n",
        "#Convert the transaction data into a one-hot encoded DataFrame\n",
        "te = TransactionEncoder()\n",
        "te_ary = te.fit(transactions).transform(transactions)\n",
        "df_encoded = pd.DataFrame(te_ary, columns=te.columns_)\n",
        "\n",
        "#Use Apriori algorithm to find frequent itemsets\n",
        "frequent_itemsets = apriori(df_encoded, min_support=0.01, use_colnames=True)\n",
        "\n",
        "#Generate association rules\n",
        "rules = association_rules(frequent_itemsets, metric=\"confidence\", min_threshold=0.5)\n",
        "\n",
        "print(rules)"
      ],
      "metadata": {
        "colab": {
          "base_uri": "https://localhost:8080/"
        },
        "id": "OXKdB9mdCuZ8",
        "outputId": "d33c0b6c-cb11-427f-884d-be45725100c8"
      },
      "execution_count": 17,
      "outputs": [
        {
          "output_type": "stream",
          "name": "stdout",
          "text": [
            "          antecedents consequents  antecedent support  consequent support  \\\n",
            "0         (Alfajores)    (Coffee)            0.043700            0.472016   \n",
            "1           (Brownie)    (Coffee)            0.048812            0.472016   \n",
            "2              (Cake)    (Coffee)            0.064912            0.472016   \n",
            "3           (Cookies)    (Coffee)            0.040378            0.472016   \n",
            "4     (Hot chocolate)    (Coffee)            0.061078            0.472016   \n",
            "5  (Keeping It Local)    (Coffee)            0.016100            0.472016   \n",
            "6         (Medialuna)    (Coffee)            0.088168            0.472016   \n",
            "7            (Pastry)    (Coffee)            0.090212            0.472016   \n",
            "8          (Sandwich)    (Coffee)            0.054434            0.472016   \n",
            "9             (Toast)    (Coffee)            0.016356            0.472016   \n",
            "\n",
            "    support  confidence      lift  leverage  conviction  zhangs_metric  \n",
            "0  0.023256    0.532164  1.127426  0.002628    1.128565       0.118189  \n",
            "1  0.024534    0.502618  1.064831  0.001494    1.061525       0.064008  \n",
            "2  0.033478    0.515748  1.092649  0.002839    1.090308       0.090679  \n",
            "3  0.020445    0.506329  1.072694  0.001385    1.069505       0.070619  \n",
            "4  0.032200    0.527197  1.116903  0.003370    1.116709       0.111476  \n",
            "5  0.013033    0.809524  1.715033  0.005434    2.771914       0.423743  \n",
            "6  0.051112    0.579710  1.228157  0.009495    1.256237       0.203735  \n",
            "7  0.047534    0.526912  1.116301  0.004952    1.116037       0.114515  \n",
            "8  0.027600    0.507042  1.074205  0.001907    1.071053       0.073056  \n",
            "9  0.010478    0.640625  1.357209  0.002758    1.469172       0.267570  \n"
          ]
        },
        {
          "output_type": "stream",
          "name": "stderr",
          "text": [
            "/usr/local/lib/python3.10/dist-packages/ipykernel/ipkernel.py:283: DeprecationWarning: `should_run_async` will not call `transform_cell` automatically in the future. Please pass the result to `transformed_cell` argument and any exception that happen during thetransform in `preprocessing_exc_tuple` in IPython 7.17 and above.\n",
            "  and should_run_async(code)\n"
          ]
        }
      ]
    },
    {
      "cell_type": "code",
      "source": [
        "# Apply the Confidence Difference Criterion\n",
        "\n",
        "transactions = shopData.groupby('TransactionNo')['Items'].apply(list).values.tolist()\n",
        "\n",
        "#Convert the transaction data into a one-hot encoded DataFrame\n",
        "te = TransactionEncoder()\n",
        "te_ary = te.fit(transactions).transform(transactions)\n",
        "df_encoded = pd.DataFrame(te_ary, columns=te.columns_)\n",
        "\n",
        "#Use Apriori algorithm to find frequent itemsets\n",
        "frequent_itemsets = apriori(df_encoded, min_support=0.01, use_colnames=True)\n",
        "\n",
        "#Generate association rules\n",
        "rules = association_rules(frequent_itemsets, metric=\"confidence\", min_threshold=0.5)\n",
        "\n",
        "#Apply Confidence Difference Criterion\n",
        "min_confidence_diff = 0.1\n",
        "\n",
        "#Calculate confidence differences\n",
        "rules['confidence_diff'] = rules.apply(lambda row: row['confidence'] - row['antecedent support'], axis=1)\n",
        "\n",
        "#Filter rules based on the confidence difference criterion\n",
        "filtered_rules = rules[rules['confidence_diff'] >= min_confidence_diff]\n",
        "\n",
        "print(filtered_rules)"
      ],
      "metadata": {
        "colab": {
          "base_uri": "https://localhost:8080/"
        },
        "id": "oAlkdjq_FYwn",
        "outputId": "2e80e9d4-ae64-4caa-987a-188909f12c38"
      },
      "execution_count": 18,
      "outputs": [
        {
          "output_type": "stream",
          "name": "stdout",
          "text": [
            "          antecedents consequents  antecedent support  consequent support  \\\n",
            "0         (Alfajores)    (Coffee)            0.043700            0.472016   \n",
            "1           (Brownie)    (Coffee)            0.048812            0.472016   \n",
            "2              (Cake)    (Coffee)            0.064912            0.472016   \n",
            "3           (Cookies)    (Coffee)            0.040378            0.472016   \n",
            "4     (Hot chocolate)    (Coffee)            0.061078            0.472016   \n",
            "5  (Keeping It Local)    (Coffee)            0.016100            0.472016   \n",
            "6         (Medialuna)    (Coffee)            0.088168            0.472016   \n",
            "7            (Pastry)    (Coffee)            0.090212            0.472016   \n",
            "8          (Sandwich)    (Coffee)            0.054434            0.472016   \n",
            "9             (Toast)    (Coffee)            0.016356            0.472016   \n",
            "\n",
            "    support  confidence      lift  leverage  conviction  zhangs_metric  \\\n",
            "0  0.023256    0.532164  1.127426  0.002628    1.128565       0.118189   \n",
            "1  0.024534    0.502618  1.064831  0.001494    1.061525       0.064008   \n",
            "2  0.033478    0.515748  1.092649  0.002839    1.090308       0.090679   \n",
            "3  0.020445    0.506329  1.072694  0.001385    1.069505       0.070619   \n",
            "4  0.032200    0.527197  1.116903  0.003370    1.116709       0.111476   \n",
            "5  0.013033    0.809524  1.715033  0.005434    2.771914       0.423743   \n",
            "6  0.051112    0.579710  1.228157  0.009495    1.256237       0.203735   \n",
            "7  0.047534    0.526912  1.116301  0.004952    1.116037       0.114515   \n",
            "8  0.027600    0.507042  1.074205  0.001907    1.071053       0.073056   \n",
            "9  0.010478    0.640625  1.357209  0.002758    1.469172       0.267570   \n",
            "\n",
            "   confidence_diff  \n",
            "0         0.488463  \n",
            "1         0.453806  \n",
            "2         0.450836  \n",
            "3         0.465951  \n",
            "4         0.466118  \n",
            "5         0.793424  \n",
            "6         0.491542  \n",
            "7         0.436700  \n",
            "8         0.452608  \n",
            "9         0.624269  \n"
          ]
        },
        {
          "output_type": "stream",
          "name": "stderr",
          "text": [
            "/usr/local/lib/python3.10/dist-packages/ipykernel/ipkernel.py:283: DeprecationWarning: `should_run_async` will not call `transform_cell` automatically in the future. Please pass the result to `transformed_cell` argument and any exception that happen during thetransform in `preprocessing_exc_tuple` in IPython 7.17 and above.\n",
            "  and should_run_async(code)\n"
          ]
        }
      ]
    },
    {
      "cell_type": "code",
      "source": [
        "# Apply the Confidence Quotient Criterion\n",
        "\n",
        "transactions = shopData.groupby('TransactionNo')['Items'].apply(list).values.tolist()\n",
        "\n",
        "#Convert the transaction data into a one-hot encoded DataFrame\n",
        "te = TransactionEncoder()\n",
        "te_ary = te.fit(transactions).transform(transactions)\n",
        "df_encoded = pd.DataFrame(te_ary, columns=te.columns_)\n",
        "\n",
        "#Use Apriori algorithm to find frequent itemsets\n",
        "frequent_itemsets = apriori(df_encoded, min_support=0.01, use_colnames=True)\n",
        "\n",
        "#Generate association rules\n",
        "rules = association_rules(frequent_itemsets, metric=\"confidence\", min_threshold=0.5)\n",
        "\n",
        "#Apply Confidence Quotient Criterion\n",
        "min_confidence_quotient = 1.5\n",
        "\n",
        "#Calculate confidence quotient\n",
        "rules['confidence_quotient'] = rules['confidence'] / rules['antecedent support']\n",
        "\n",
        "#Filter rules based on the confidence quotient criterion\n",
        "filtered_rules = rules[rules['confidence_quotient'] >= min_confidence_quotient]\n",
        "\n",
        "print(filtered_rules)"
      ],
      "metadata": {
        "id": "CkmnyULXDhVB",
        "colab": {
          "base_uri": "https://localhost:8080/"
        },
        "outputId": "6528a80a-9f6a-424e-af5f-c5b7e38c1edd"
      },
      "execution_count": 19,
      "outputs": [
        {
          "output_type": "stream",
          "name": "stdout",
          "text": [
            "          antecedents consequents  antecedent support  consequent support  \\\n",
            "0         (Alfajores)    (Coffee)            0.043700            0.472016   \n",
            "1           (Brownie)    (Coffee)            0.048812            0.472016   \n",
            "2              (Cake)    (Coffee)            0.064912            0.472016   \n",
            "3           (Cookies)    (Coffee)            0.040378            0.472016   \n",
            "4     (Hot chocolate)    (Coffee)            0.061078            0.472016   \n",
            "5  (Keeping It Local)    (Coffee)            0.016100            0.472016   \n",
            "6         (Medialuna)    (Coffee)            0.088168            0.472016   \n",
            "7            (Pastry)    (Coffee)            0.090212            0.472016   \n",
            "8          (Sandwich)    (Coffee)            0.054434            0.472016   \n",
            "9             (Toast)    (Coffee)            0.016356            0.472016   \n",
            "\n",
            "    support  confidence      lift  leverage  conviction  zhangs_metric  \\\n",
            "0  0.023256    0.532164  1.127426  0.002628    1.128565       0.118189   \n",
            "1  0.024534    0.502618  1.064831  0.001494    1.061525       0.064008   \n",
            "2  0.033478    0.515748  1.092649  0.002839    1.090308       0.090679   \n",
            "3  0.020445    0.506329  1.072694  0.001385    1.069505       0.070619   \n",
            "4  0.032200    0.527197  1.116903  0.003370    1.116709       0.111476   \n",
            "5  0.013033    0.809524  1.715033  0.005434    2.771914       0.423743   \n",
            "6  0.051112    0.579710  1.228157  0.009495    1.256237       0.203735   \n",
            "7  0.047534    0.526912  1.116301  0.004952    1.116037       0.114515   \n",
            "8  0.027600    0.507042  1.074205  0.001907    1.071053       0.073056   \n",
            "9  0.010478    0.640625  1.357209  0.002758    1.469172       0.267570   \n",
            "\n",
            "   confidence_quotient  \n",
            "0            12.177525  \n",
            "1            10.297086  \n",
            "2             7.945362  \n",
            "3            12.539657  \n",
            "4             8.631467  \n",
            "5            50.280423  \n",
            "6             6.575089  \n",
            "7             5.840814  \n",
            "8             9.314818  \n",
            "9            39.168213  \n"
          ]
        },
        {
          "output_type": "stream",
          "name": "stderr",
          "text": [
            "/usr/local/lib/python3.10/dist-packages/ipykernel/ipkernel.py:283: DeprecationWarning: `should_run_async` will not call `transform_cell` automatically in the future. Please pass the result to `transformed_cell` argument and any exception that happen during thetransform in `preprocessing_exc_tuple` in IPython 7.17 and above.\n",
            "  and should_run_async(code)\n"
          ]
        }
      ]
    }
  ]
}